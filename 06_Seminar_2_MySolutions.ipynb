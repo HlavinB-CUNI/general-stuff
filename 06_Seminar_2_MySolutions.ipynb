{
 "cells": [
  {
   "cell_type": "markdown",
   "metadata": {
    "nteract": {
     "transient": {
      "deleting": false
     }
    }
   },
   "source": [
    "# Seminar 2: Exploratory Data Analysis in Python\n",
    "\n",
    "Pandas environment"
   ]
  },
  {
   "cell_type": "markdown",
   "metadata": {},
   "source": [
    "* We will use the Ames Housing dataset of real estate sales\n",
    "* The content is based on the Kaggle Competition House Prices Advanced Regression Techniques. See details [here](https://www.kaggle.com/competitions/house-prices-advanced-regression-techniques)."
   ]
  },
  {
   "cell_type": "markdown",
   "metadata": {},
   "source": [
    "### Goals for today:\n",
    "* Read files (csv)\n",
    "* Display needed parts of df\n",
    "* Aggregate df\n",
    "* Filter df"
   ]
  },
  {
   "cell_type": "code",
   "execution_count": 3,
   "metadata": {
    "gather": {
     "logged": 1665932462185
    },
    "tags": []
   },
   "outputs": [
    {
     "name": "stderr",
     "output_type": "stream",
     "text": [
      "C:\\Users\\Bryan\\Anaconda3\\lib\\site-packages\\statsmodels\\tools\\_testing.py:19: FutureWarning: pandas.util.testing is deprecated. Use the functions in the public API at pandas.testing instead.\n",
      "  import pandas.util.testing as tm\n"
     ]
    }
   ],
   "source": [
    "import math\n",
    "import numpy as np\n",
    "import pandas as pd\n",
    "import seaborn as sns\n",
    "import matplotlib.pyplot as plt\n",
    "import scipy.stats as stats\n",
    "%matplotlib inline"
   ]
  },
  {
   "cell_type": "markdown",
   "metadata": {
    "nteract": {
     "transient": {
      "deleting": false
     }
    }
   },
   "source": [
    "## Task 1: Read data and understand it's structure\n",
    "\n",
    "### 1a. Load training dataset \n",
    "\n",
    "- data in `99_files/house-prices-kaggle.zip`\n",
    "- load train.csv\n",
    "- and display 5 random rows\n",
    "\n",
    "Hint: Use `.style` attribute to display all columns\n",
    "\n",
    "Hint: See  `data_description.txt` for documentation of variables"
   ]
  },
  {
   "cell_type": "code",
   "execution_count": 4,
   "metadata": {},
   "outputs": [],
   "source": [
    "import zipfile\n",
    "import random"
   ]
  },
  {
   "cell_type": "code",
   "execution_count": 5,
   "metadata": {
    "gather": {
     "logged": 1665932463360
    },
    "jupyter": {
     "outputs_hidden": false,
     "source_hidden": false
    },
    "nteract": {
     "transient": {
      "deleting": false
     }
    }
   },
   "outputs": [
    {
     "name": "stdout",
     "output_type": "stream",
     "text": [
      "['train.csv', 'test.csv', 'sample_submission.csv', 'data_description.txt']\n"
     ]
    }
   ],
   "source": [
    "# Load the data\n",
    "with zipfile.ZipFile('../99_files/house-prices-kaggle.zip') as z:\n",
    "    print(z.namelist())\n",
    "    with z.open(\"train.csv\") as f:\n",
    "        train = pd.read_csv(f, index_col=[\"Id\"])\n",
    "      "
   ]
  },
  {
   "cell_type": "code",
   "execution_count": 6,
   "metadata": {
    "scrolled": true
   },
   "outputs": [
    {
     "name": "stdout",
     "output_type": "stream",
     "text": [
      "1460\n",
      "80\n"
     ]
    }
   ],
   "source": [
    "row_count = train.shape[0]\n",
    "column_count = train.shape[1]\n",
    "print(row_count)\n",
    "print(column_count)"
   ]
  },
  {
   "cell_type": "code",
   "execution_count": 7,
   "metadata": {
    "scrolled": false
   },
   "outputs": [
    {
     "name": "stdout",
     "output_type": "stream",
     "text": [
      "      MSSubClass MSZoning  LotFrontage  LotArea Street Alley LotShape  \\\n",
      "Id                                                                      \n",
      "1399          50       RL         60.0     7200   Pave   NaN      Reg   \n",
      "\n",
      "     LandContour Utilities LotConfig  ... PoolArea PoolQC  Fence MiscFeature  \\\n",
      "Id                                    ...                                      \n",
      "1399         Lvl    AllPub    Inside  ...        0    NaN  GdPrv         NaN   \n",
      "\n",
      "     MiscVal MoSold  YrSold  SaleType  SaleCondition  SalePrice  \n",
      "Id                                                               \n",
      "1399       0      5    2009        WD         Normal     138000  \n",
      "\n",
      "[1 rows x 80 columns]\n",
      "      MSSubClass MSZoning  LotFrontage  LotArea Street Alley LotShape  \\\n",
      "Id                                                                      \n",
      "1457          20       RL         85.0    13175   Pave   NaN      Reg   \n",
      "\n",
      "     LandContour Utilities LotConfig  ... PoolArea PoolQC  Fence MiscFeature  \\\n",
      "Id                                    ...                                      \n",
      "1457         Lvl    AllPub    Inside  ...        0    NaN  MnPrv         NaN   \n",
      "\n",
      "     MiscVal MoSold  YrSold  SaleType  SaleCondition  SalePrice  \n",
      "Id                                                               \n",
      "1457       0      2    2010        WD         Normal     210000  \n",
      "\n",
      "[1 rows x 80 columns]\n",
      "      MSSubClass MSZoning  LotFrontage  LotArea Street Alley LotShape  \\\n",
      "Id                                                                      \n",
      "1337          90       RL         87.0     9246   Pave   NaN      IR1   \n",
      "\n",
      "     LandContour Utilities LotConfig  ... PoolArea PoolQC Fence MiscFeature  \\\n",
      "Id                                    ...                                     \n",
      "1337         Lvl    AllPub    Inside  ...        0    NaN   NaN         NaN   \n",
      "\n",
      "     MiscVal MoSold  YrSold  SaleType  SaleCondition  SalePrice  \n",
      "Id                                                               \n",
      "1337       0     11    2008        WD         Normal     135000  \n",
      "\n",
      "[1 rows x 80 columns]\n",
      "      MSSubClass MSZoning  LotFrontage  LotArea Street Alley LotShape  \\\n",
      "Id                                                                      \n",
      "1168          60       RL         58.0    10852   Pave   NaN      IR1   \n",
      "\n",
      "     LandContour Utilities LotConfig  ... PoolArea PoolQC Fence MiscFeature  \\\n",
      "Id                                    ...                                     \n",
      "1168         Lvl    AllPub    Inside  ...        0    NaN   NaN         NaN   \n",
      "\n",
      "     MiscVal MoSold  YrSold  SaleType  SaleCondition  SalePrice  \n",
      "Id                                                               \n",
      "1168       0      2    2006        WD         Normal     173000  \n",
      "\n",
      "[1 rows x 80 columns]\n",
      "     MSSubClass MSZoning  LotFrontage  LotArea Street Alley LotShape  \\\n",
      "Id                                                                     \n",
      "890          20       RL        128.0    12160   Pave   NaN      Reg   \n",
      "\n",
      "    LandContour Utilities LotConfig  ... PoolArea PoolQC Fence MiscFeature  \\\n",
      "Id                                   ...                                     \n",
      "890         Lvl    AllPub    Inside  ...        0    NaN   NaN         NaN   \n",
      "\n",
      "    MiscVal MoSold  YrSold  SaleType  SaleCondition  SalePrice  \n",
      "Id                                                              \n",
      "890       0      2    2009        WD         Normal     149500  \n",
      "\n",
      "[1 rows x 80 columns]\n"
     ]
    }
   ],
   "source": [
    "for i in range(5):\n",
    "    print(train.iloc[[random.randint(1,row_count)]])\n",
    "    "
   ]
  },
  {
   "cell_type": "code",
   "execution_count": 29,
   "metadata": {},
   "outputs": [
    {
     "data": {
      "text/plain": [
       "<bound method DataFrame.info of       MSSubClass MSZoning  LotFrontage  LotArea Street Alley LotShape  \\\n",
       "Id                                                                      \n",
       "1             60       RL         65.0     8450   Pave   NaN      Reg   \n",
       "2             20       RL         80.0     9600   Pave   NaN      Reg   \n",
       "3             60       RL         68.0    11250   Pave   NaN      IR1   \n",
       "4             70       RL         60.0     9550   Pave   NaN      IR1   \n",
       "5             60       RL         84.0    14260   Pave   NaN      IR1   \n",
       "...          ...      ...          ...      ...    ...   ...      ...   \n",
       "1456          60       RL         62.0     7917   Pave   NaN      Reg   \n",
       "1457          20       RL         85.0    13175   Pave   NaN      Reg   \n",
       "1458          70       RL         66.0     9042   Pave   NaN      Reg   \n",
       "1459          20       RL         68.0     9717   Pave   NaN      Reg   \n",
       "1460          20       RL         75.0     9937   Pave   NaN      Reg   \n",
       "\n",
       "     LandContour Utilities LotConfig  ... PoolArea PoolQC  Fence MiscFeature  \\\n",
       "Id                                    ...                                      \n",
       "1            Lvl    AllPub    Inside  ...        0    NaN    NaN         NaN   \n",
       "2            Lvl    AllPub       FR2  ...        0    NaN    NaN         NaN   \n",
       "3            Lvl    AllPub    Inside  ...        0    NaN    NaN         NaN   \n",
       "4            Lvl    AllPub    Corner  ...        0    NaN    NaN         NaN   \n",
       "5            Lvl    AllPub       FR2  ...        0    NaN    NaN         NaN   \n",
       "...          ...       ...       ...  ...      ...    ...    ...         ...   \n",
       "1456         Lvl    AllPub    Inside  ...        0    NaN    NaN         NaN   \n",
       "1457         Lvl    AllPub    Inside  ...        0    NaN  MnPrv         NaN   \n",
       "1458         Lvl    AllPub    Inside  ...        0    NaN  GdPrv        Shed   \n",
       "1459         Lvl    AllPub    Inside  ...        0    NaN    NaN         NaN   \n",
       "1460         Lvl    AllPub    Inside  ...        0    NaN    NaN         NaN   \n",
       "\n",
       "     MiscVal MoSold  YrSold  SaleType  SaleCondition  SalePrice  \n",
       "Id                                                               \n",
       "1          0      2    2008        WD         Normal     208500  \n",
       "2          0      5    2007        WD         Normal     181500  \n",
       "3          0      9    2008        WD         Normal     223500  \n",
       "4          0      2    2006        WD        Abnorml     140000  \n",
       "5          0     12    2008        WD         Normal     250000  \n",
       "...      ...    ...     ...       ...            ...        ...  \n",
       "1456       0      8    2007        WD         Normal     175000  \n",
       "1457       0      2    2010        WD         Normal     210000  \n",
       "1458    2500      5    2010        WD         Normal     266500  \n",
       "1459       0      4    2010        WD         Normal     142125  \n",
       "1460       0      6    2008        WD         Normal     147500  \n",
       "\n",
       "[1460 rows x 80 columns]>"
      ]
     },
     "execution_count": 29,
     "metadata": {},
     "output_type": "execute_result"
    }
   ],
   "source": [
    "train.info"
   ]
  },
  {
   "cell_type": "code",
   "execution_count": 48,
   "metadata": {},
   "outputs": [
    {
     "data": {
      "text/plain": [
       "208500"
      ]
     },
     "execution_count": 48,
     "metadata": {},
     "output_type": "execute_result"
    }
   ],
   "source": [
    "# train.iloc[0,column_count-1] example for indexing at a certain column position"
   ]
  },
  {
   "cell_type": "markdown",
   "metadata": {
    "nteract": {
     "transient": {
      "deleting": false
     }
    }
   },
   "source": [
    "### 1b. What is the distribution `SalePrice` variable?\n",
    "\n",
    "* plot histogram (`.hist()` on `pd.Series`) with bin width $10,000\n",
    "\n",
    "Hint: Specify bins using range"
   ]
  },
  {
   "cell_type": "code",
   "execution_count": 8,
   "metadata": {
    "scrolled": true
   },
   "outputs": [
    {
     "data": {
      "text/plain": [
       "Id\n",
       "1       208500\n",
       "2       181500\n",
       "3       223500\n",
       "4       140000\n",
       "5       250000\n",
       "         ...  \n",
       "1456    175000\n",
       "1457    210000\n",
       "1458    266500\n",
       "1459    142125\n",
       "1460    147500\n",
       "Name: SalePrice, Length: 1460, dtype: int64"
      ]
     },
     "execution_count": 8,
     "metadata": {},
     "output_type": "execute_result"
    }
   ],
   "source": [
    "train.iloc[0:row_count, column_count - 1] # gathering all the rows for the selected column "
   ]
  },
  {
   "cell_type": "code",
   "execution_count": 9,
   "metadata": {},
   "outputs": [
    {
     "data": {
      "text/plain": [
       "<matplotlib.axes._subplots.AxesSubplot at 0x21dc56c32c8>"
      ]
     },
     "execution_count": 9,
     "metadata": {},
     "output_type": "execute_result"
    },
    {
     "data": {
      "image/png": "[encoded data removed]",
      "text/plain": [
       "<Figure size 432x288 with 1 Axes>"
      ]
     },
     "metadata": {
      "needs_background": "light"
     },
     "output_type": "display_data"
    }
   ],
   "source": [
    "train.iloc[0:row_count, column_count - 1].hist(bins=np.arange(min(train.iloc[0:row_count, column_count - 1]), max(train.iloc[0:row_count, column_count - 1]) + 10000, 10000))"
   ]
  },
  {
   "cell_type": "code",
   "execution_count": 10,
   "metadata": {
    "gather": {
     "logged": 1665932220142
    },
    "jupyter": {
     "outputs_hidden": false,
     "source_hidden": false
    },
    "nteract": {
     "transient": {
      "deleting": false
     }
    },
    "tags": []
   },
   "outputs": [
    {
     "data": {
      "text/plain": [
       "<matplotlib.axes._subplots.AxesSubplot at 0x21dc9513808>"
      ]
     },
     "execution_count": 10,
     "metadata": {},
     "output_type": "execute_result"
    },
    {
     "data": {
      "image/png": "[encoded data removed]",
      "text/plain": [
       "<Figure size 432x288 with 1 Axes>"
      ]
     },
     "metadata": {
      "needs_background": "light"
     },
     "output_type": "display_data"
    }
   ],
   "source": [
    "train.SalePrice.hist(bins=10)"
   ]
  },
  {
   "cell_type": "markdown",
   "metadata": {
    "nteract": {
     "transient": {
      "deleting": false
     }
    }
   },
   "source": [
    "### 1c. Split columns between quantitative and qualitative variables\n",
    "Store column names in separate lists of strings `quantitative` and `qualitative`\n",
    "\n",
    "Hint: `.dtypes` attribute contains a series with strings describing dtype of the data"
   ]
  },
  {
   "cell_type": "code",
   "execution_count": 13,
   "metadata": {},
   "outputs": [],
   "source": [
    "train_types = train.dtypes"
   ]
  },
  {
   "cell_type": "code",
   "execution_count": 14,
   "metadata": {},
   "outputs": [
    {
     "name": "stdout",
     "output_type": "stream",
     "text": [
      "[<class 'object'> 'MSZoning' 'qualitative' 'Street' 'qualitative' 'Alley'\n",
      " 'qualitative' 'LotShape' 'qualitative' 'LandContour' 'qualitative'\n",
      " 'Utilities' 'qualitative' 'LotConfig' 'qualitative' 'LandSlope'\n",
      " 'qualitative' 'Neighborhood' 'qualitative' 'Condition1' 'qualitative'\n",
      " 'Condition2' 'qualitative' 'BldgType' 'qualitative' 'HouseStyle'\n",
      " 'qualitative' 'RoofStyle' 'qualitative' 'RoofMatl' 'qualitative'\n",
      " 'Exterior1st' 'qualitative' 'Exterior2nd' 'qualitative' 'MasVnrType'\n",
      " 'qualitative' 'ExterQual' 'qualitative' 'ExterCond' 'qualitative'\n",
      " 'Foundation' 'qualitative' 'BsmtQual' 'qualitative' 'BsmtCond'\n",
      " 'qualitative' 'BsmtExposure' 'qualitative' 'BsmtFinType1' 'qualitative'\n",
      " 'BsmtFinType2' 'qualitative' 'Heating' 'qualitative' 'HeatingQC'\n",
      " 'qualitative' 'CentralAir' 'qualitative' 'Electrical' 'qualitative'\n",
      " 'KitchenQual' 'qualitative' 'Functional' 'qualitative' 'FireplaceQu'\n",
      " 'qualitative' 'GarageType' 'qualitative' 'GarageFinish' 'qualitative'\n",
      " 'GarageQual' 'qualitative' 'GarageCond' 'qualitative' 'PavedDrive'\n",
      " 'qualitative' 'PoolQC' 'qualitative' 'Fence' 'qualitative' 'MiscFeature'\n",
      " 'qualitative' 'SaleType' 'qualitative' 'SaleCondition' 'qualitative']\n",
      "[<class 'object'> 'MSSubClass' 'quantitative' 'LotFrontage' 'quantitative'\n",
      " 'LotArea' 'quantitative' 'OverallQual' 'quantitative' 'OverallCond'\n",
      " 'quantitative' 'YearBuilt' 'quantitative' 'YearRemodAdd' 'quantitative'\n",
      " 'MasVnrArea' 'quantitative' 'BsmtFinSF1' 'quantitative' 'BsmtFinSF2'\n",
      " 'quantitative' 'BsmtUnfSF' 'quantitative' 'TotalBsmtSF' 'quantitative'\n",
      " '1stFlrSF' 'quantitative' '2ndFlrSF' 'quantitative' 'LowQualFinSF'\n",
      " 'quantitative' 'GrLivArea' 'quantitative' 'BsmtFullBath' 'quantitative'\n",
      " 'BsmtHalfBath' 'quantitative' 'FullBath' 'quantitative' 'HalfBath'\n",
      " 'quantitative' 'BedroomAbvGr' 'quantitative' 'KitchenAbvGr'\n",
      " 'quantitative' 'TotRmsAbvGrd' 'quantitative' 'Fireplaces' 'quantitative'\n",
      " 'GarageYrBlt' 'quantitative' 'GarageCars' 'quantitative' 'GarageArea'\n",
      " 'quantitative' 'WoodDeckSF' 'quantitative' 'OpenPorchSF' 'quantitative'\n",
      " 'EnclosedPorch' 'quantitative' '3SsnPorch' 'quantitative' 'ScreenPorch'\n",
      " 'quantitative' 'PoolArea' 'quantitative' 'MiscVal' 'quantitative'\n",
      " 'MoSold' 'quantitative' 'YrSold' 'quantitative' 'SalePrice'\n",
      " 'quantitative']\n"
     ]
    }
   ],
   "source": [
    "qual_list = np.array(object)\n",
    "quant_list = np.array(object)\n",
    "for i in range(column_count):\n",
    "    if (train_types[i] == 'int64' or train_types[i] == 'float64'):\n",
    "        quant_list = np.append(quant_list,[train.columns[i],\"quantitative\"])\n",
    "    elif (train_types[i] == 'object'):\n",
    "        qual_list = np.append(qual_list,[train.columns[i],\"qualitative\"])\n",
    "print(qual_list)\n",
    "print(quant_list)\n"
   ]
  },
  {
   "cell_type": "code",
   "execution_count": null,
   "metadata": {},
   "outputs": [],
   "source": []
  },
  {
   "cell_type": "code",
   "execution_count": null,
   "metadata": {
    "gather": {
     "logged": 1665932487403
    },
    "jupyter": {
     "outputs_hidden": false,
     "source_hidden": false
    },
    "nteract": {
     "transient": {
      "deleting": false
     }
    },
    "tags": []
   },
   "outputs": [],
   "source": []
  },
  {
   "cell_type": "markdown",
   "metadata": {
    "tags": []
   },
   "source": [
    "### 1c* display df with only quantitative columns"
   ]
  },
  {
   "cell_type": "code",
   "execution_count": 15,
   "metadata": {
    "scrolled": true,
    "tags": []
   },
   "outputs": [
    {
     "name": "stdout",
     "output_type": "stream",
     "text": [
      "MSSubClass\n",
      "LotFrontage\n",
      "LotArea\n",
      "OverallQual\n",
      "OverallCond\n",
      "YearBuilt\n",
      "YearRemodAdd\n",
      "MasVnrArea\n",
      "BsmtFinSF1\n",
      "BsmtFinSF2\n",
      "BsmtUnfSF\n",
      "TotalBsmtSF\n",
      "1stFlrSF\n",
      "2ndFlrSF\n",
      "LowQualFinSF\n",
      "GrLivArea\n",
      "BsmtFullBath\n",
      "BsmtHalfBath\n",
      "FullBath\n",
      "HalfBath\n",
      "BedroomAbvGr\n",
      "KitchenAbvGr\n",
      "TotRmsAbvGrd\n",
      "Fireplaces\n",
      "GarageYrBlt\n",
      "GarageCars\n",
      "GarageArea\n",
      "WoodDeckSF\n",
      "OpenPorchSF\n",
      "EnclosedPorch\n",
      "3SsnPorch\n",
      "ScreenPorch\n",
      "PoolArea\n",
      "MiscVal\n",
      "MoSold\n",
      "YrSold\n",
      "SalePrice\n"
     ]
    }
   ],
   "source": [
    "#Get only quantitative column names\n",
    "for i in range(len(quant_list)):\n",
    "    if (i%2 != 0):\n",
    "        print(quant_list[i])"
   ]
  },
  {
   "cell_type": "code",
   "execution_count": 19,
   "metadata": {
    "scrolled": true
   },
   "outputs": [
    {
     "name": "stdout",
     "output_type": "stream",
     "text": [
      "['MSSubClass', 'LotFrontage', 'LotArea', 'OverallQual', 'OverallCond', 'YearBuilt', 'YearRemodAdd', 'MasVnrArea', 'BsmtFinSF1', 'BsmtFinSF2', 'BsmtUnfSF', 'TotalBsmtSF', '1stFlrSF', '2ndFlrSF', 'LowQualFinSF', 'GrLivArea', 'BsmtFullBath', 'BsmtHalfBath', 'FullBath', 'HalfBath', 'BedroomAbvGr', 'KitchenAbvGr', 'TotRmsAbvGrd', 'Fireplaces', 'GarageYrBlt', 'GarageCars', 'GarageArea', 'WoodDeckSF', 'OpenPorchSF', 'EnclosedPorch', '3SsnPorch', 'ScreenPorch', 'PoolArea', 'MiscVal', 'MoSold', 'YrSold', 'SalePrice']\n",
      "['MSZoning', 'Street', 'Alley', 'LotShape', 'LandContour', 'Utilities', 'LotConfig', 'LandSlope', 'Neighborhood', 'Condition1', 'Condition2', 'BldgType', 'HouseStyle', 'RoofStyle', 'RoofMatl', 'Exterior1st', 'Exterior2nd', 'MasVnrType', 'ExterQual', 'ExterCond', 'Foundation', 'BsmtQual', 'BsmtCond', 'BsmtExposure', 'BsmtFinType1', 'BsmtFinType2', 'Heating', 'HeatingQC', 'CentralAir', 'Electrical', 'KitchenQual', 'Functional', 'FireplaceQu', 'GarageType', 'GarageFinish', 'GarageQual', 'GarageCond', 'PavedDrive', 'PoolQC', 'Fence', 'MiscFeature', 'SaleType', 'SaleCondition']\n"
     ]
    }
   ],
   "source": [
    "# get df\n",
    "quantitative = [column for column in train.columns if train.dtypes[column] != 'object']\n",
    "qualitative = [column for column in train.columns if train.dtypes[column] == 'object']\n",
    "\n",
    "print(quantitative)\n",
    "print(qualitative)"
   ]
  },
  {
   "cell_type": "code",
   "execution_count": 20,
   "metadata": {},
   "outputs": [
    {
     "data": {
      "text/html": [
       "<div>\n",
       "<style scoped>\n",
       "    .dataframe tbody tr th:only-of-type {\n",
       "        vertical-align: middle;\n",
       "    }\n",
       "\n",
       "    .dataframe tbody tr th {\n",
       "        vertical-align: top;\n",
       "    }\n",
       "\n",
       "    .dataframe thead th {\n",
       "        text-align: right;\n",
       "    }\n",
       "</style>\n",
       "<table border=\"1\" class=\"dataframe\">\n",
       "  <thead>\n",
       "    <tr style=\"text-align: right;\">\n",
       "      <th></th>\n",
       "      <th>MSSubClass</th>\n",
       "      <th>LotFrontage</th>\n",
       "      <th>LotArea</th>\n",
       "      <th>OverallQual</th>\n",
       "      <th>OverallCond</th>\n",
       "      <th>YearBuilt</th>\n",
       "      <th>YearRemodAdd</th>\n",
       "      <th>MasVnrArea</th>\n",
       "      <th>BsmtFinSF1</th>\n",
       "      <th>BsmtFinSF2</th>\n",
       "      <th>...</th>\n",
       "      <th>WoodDeckSF</th>\n",
       "      <th>OpenPorchSF</th>\n",
       "      <th>EnclosedPorch</th>\n",
       "      <th>3SsnPorch</th>\n",
       "      <th>ScreenPorch</th>\n",
       "      <th>PoolArea</th>\n",
       "      <th>MiscVal</th>\n",
       "      <th>MoSold</th>\n",
       "      <th>YrSold</th>\n",
       "      <th>SalePrice</th>\n",
       "    </tr>\n",
       "    <tr>\n",
       "      <th>Id</th>\n",
       "      <th></th>\n",
       "      <th></th>\n",
       "      <th></th>\n",
       "      <th></th>\n",
       "      <th></th>\n",
       "      <th></th>\n",
       "      <th></th>\n",
       "      <th></th>\n",
       "      <th></th>\n",
       "      <th></th>\n",
       "      <th></th>\n",
       "      <th></th>\n",
       "      <th></th>\n",
       "      <th></th>\n",
       "      <th></th>\n",
       "      <th></th>\n",
       "      <th></th>\n",
       "      <th></th>\n",
       "      <th></th>\n",
       "      <th></th>\n",
       "      <th></th>\n",
       "    </tr>\n",
       "  </thead>\n",
       "  <tbody>\n",
       "    <tr>\n",
       "      <th>1</th>\n",
       "      <td>60</td>\n",
       "      <td>65.0</td>\n",
       "      <td>8450</td>\n",
       "      <td>7</td>\n",
       "      <td>5</td>\n",
       "      <td>2003</td>\n",
       "      <td>2003</td>\n",
       "      <td>196.0</td>\n",
       "      <td>706</td>\n",
       "      <td>0</td>\n",
       "      <td>...</td>\n",
       "      <td>0</td>\n",
       "      <td>61</td>\n",
       "      <td>0</td>\n",
       "      <td>0</td>\n",
       "      <td>0</td>\n",
       "      <td>0</td>\n",
       "      <td>0</td>\n",
       "      <td>2</td>\n",
       "      <td>2008</td>\n",
       "      <td>208500</td>\n",
       "    </tr>\n",
       "    <tr>\n",
       "      <th>2</th>\n",
       "      <td>20</td>\n",
       "      <td>80.0</td>\n",
       "      <td>9600</td>\n",
       "      <td>6</td>\n",
       "      <td>8</td>\n",
       "      <td>1976</td>\n",
       "      <td>1976</td>\n",
       "      <td>0.0</td>\n",
       "      <td>978</td>\n",
       "      <td>0</td>\n",
       "      <td>...</td>\n",
       "      <td>298</td>\n",
       "      <td>0</td>\n",
       "      <td>0</td>\n",
       "      <td>0</td>\n",
       "      <td>0</td>\n",
       "      <td>0</td>\n",
       "      <td>0</td>\n",
       "      <td>5</td>\n",
       "      <td>2007</td>\n",
       "      <td>181500</td>\n",
       "    </tr>\n",
       "    <tr>\n",
       "      <th>3</th>\n",
       "      <td>60</td>\n",
       "      <td>68.0</td>\n",
       "      <td>11250</td>\n",
       "      <td>7</td>\n",
       "      <td>5</td>\n",
       "      <td>2001</td>\n",
       "      <td>2002</td>\n",
       "      <td>162.0</td>\n",
       "      <td>486</td>\n",
       "      <td>0</td>\n",
       "      <td>...</td>\n",
       "      <td>0</td>\n",
       "      <td>42</td>\n",
       "      <td>0</td>\n",
       "      <td>0</td>\n",
       "      <td>0</td>\n",
       "      <td>0</td>\n",
       "      <td>0</td>\n",
       "      <td>9</td>\n",
       "      <td>2008</td>\n",
       "      <td>223500</td>\n",
       "    </tr>\n",
       "    <tr>\n",
       "      <th>4</th>\n",
       "      <td>70</td>\n",
       "      <td>60.0</td>\n",
       "      <td>9550</td>\n",
       "      <td>7</td>\n",
       "      <td>5</td>\n",
       "      <td>1915</td>\n",
       "      <td>1970</td>\n",
       "      <td>0.0</td>\n",
       "      <td>216</td>\n",
       "      <td>0</td>\n",
       "      <td>...</td>\n",
       "      <td>0</td>\n",
       "      <td>35</td>\n",
       "      <td>272</td>\n",
       "      <td>0</td>\n",
       "      <td>0</td>\n",
       "      <td>0</td>\n",
       "      <td>0</td>\n",
       "      <td>2</td>\n",
       "      <td>2006</td>\n",
       "      <td>140000</td>\n",
       "    </tr>\n",
       "    <tr>\n",
       "      <th>5</th>\n",
       "      <td>60</td>\n",
       "      <td>84.0</td>\n",
       "      <td>14260</td>\n",
       "      <td>8</td>\n",
       "      <td>5</td>\n",
       "      <td>2000</td>\n",
       "      <td>2000</td>\n",
       "      <td>350.0</td>\n",
       "      <td>655</td>\n",
       "      <td>0</td>\n",
       "      <td>...</td>\n",
       "      <td>192</td>\n",
       "      <td>84</td>\n",
       "      <td>0</td>\n",
       "      <td>0</td>\n",
       "      <td>0</td>\n",
       "      <td>0</td>\n",
       "      <td>0</td>\n",
       "      <td>12</td>\n",
       "      <td>2008</td>\n",
       "      <td>250000</td>\n",
       "    </tr>\n",
       "    <tr>\n",
       "      <th>...</th>\n",
       "      <td>...</td>\n",
       "      <td>...</td>\n",
       "      <td>...</td>\n",
       "      <td>...</td>\n",
       "      <td>...</td>\n",
       "      <td>...</td>\n",
       "      <td>...</td>\n",
       "      <td>...</td>\n",
       "      <td>...</td>\n",
       "      <td>...</td>\n",
       "      <td>...</td>\n",
       "      <td>...</td>\n",
       "      <td>...</td>\n",
       "      <td>...</td>\n",
       "      <td>...</td>\n",
       "      <td>...</td>\n",
       "      <td>...</td>\n",
       "      <td>...</td>\n",
       "      <td>...</td>\n",
       "      <td>...</td>\n",
       "      <td>...</td>\n",
       "    </tr>\n",
       "    <tr>\n",
       "      <th>1456</th>\n",
       "      <td>60</td>\n",
       "      <td>62.0</td>\n",
       "      <td>7917</td>\n",
       "      <td>6</td>\n",
       "      <td>5</td>\n",
       "      <td>1999</td>\n",
       "      <td>2000</td>\n",
       "      <td>0.0</td>\n",
       "      <td>0</td>\n",
       "      <td>0</td>\n",
       "      <td>...</td>\n",
       "      <td>0</td>\n",
       "      <td>40</td>\n",
       "      <td>0</td>\n",
       "      <td>0</td>\n",
       "      <td>0</td>\n",
       "      <td>0</td>\n",
       "      <td>0</td>\n",
       "      <td>8</td>\n",
       "      <td>2007</td>\n",
       "      <td>175000</td>\n",
       "    </tr>\n",
       "    <tr>\n",
       "      <th>1457</th>\n",
       "      <td>20</td>\n",
       "      <td>85.0</td>\n",
       "      <td>13175</td>\n",
       "      <td>6</td>\n",
       "      <td>6</td>\n",
       "      <td>1978</td>\n",
       "      <td>1988</td>\n",
       "      <td>119.0</td>\n",
       "      <td>790</td>\n",
       "      <td>163</td>\n",
       "      <td>...</td>\n",
       "      <td>349</td>\n",
       "      <td>0</td>\n",
       "      <td>0</td>\n",
       "      <td>0</td>\n",
       "      <td>0</td>\n",
       "      <td>0</td>\n",
       "      <td>0</td>\n",
       "      <td>2</td>\n",
       "      <td>2010</td>\n",
       "      <td>210000</td>\n",
       "    </tr>\n",
       "    <tr>\n",
       "      <th>1458</th>\n",
       "      <td>70</td>\n",
       "      <td>66.0</td>\n",
       "      <td>9042</td>\n",
       "      <td>7</td>\n",
       "      <td>9</td>\n",
       "      <td>1941</td>\n",
       "      <td>2006</td>\n",
       "      <td>0.0</td>\n",
       "      <td>275</td>\n",
       "      <td>0</td>\n",
       "      <td>...</td>\n",
       "      <td>0</td>\n",
       "      <td>60</td>\n",
       "      <td>0</td>\n",
       "      <td>0</td>\n",
       "      <td>0</td>\n",
       "      <td>0</td>\n",
       "      <td>2500</td>\n",
       "      <td>5</td>\n",
       "      <td>2010</td>\n",
       "      <td>266500</td>\n",
       "    </tr>\n",
       "    <tr>\n",
       "      <th>1459</th>\n",
       "      <td>20</td>\n",
       "      <td>68.0</td>\n",
       "      <td>9717</td>\n",
       "      <td>5</td>\n",
       "      <td>6</td>\n",
       "      <td>1950</td>\n",
       "      <td>1996</td>\n",
       "      <td>0.0</td>\n",
       "      <td>49</td>\n",
       "      <td>1029</td>\n",
       "      <td>...</td>\n",
       "      <td>366</td>\n",
       "      <td>0</td>\n",
       "      <td>112</td>\n",
       "      <td>0</td>\n",
       "      <td>0</td>\n",
       "      <td>0</td>\n",
       "      <td>0</td>\n",
       "      <td>4</td>\n",
       "      <td>2010</td>\n",
       "      <td>142125</td>\n",
       "    </tr>\n",
       "    <tr>\n",
       "      <th>1460</th>\n",
       "      <td>20</td>\n",
       "      <td>75.0</td>\n",
       "      <td>9937</td>\n",
       "      <td>5</td>\n",
       "      <td>6</td>\n",
       "      <td>1965</td>\n",
       "      <td>1965</td>\n",
       "      <td>0.0</td>\n",
       "      <td>830</td>\n",
       "      <td>290</td>\n",
       "      <td>...</td>\n",
       "      <td>736</td>\n",
       "      <td>68</td>\n",
       "      <td>0</td>\n",
       "      <td>0</td>\n",
       "      <td>0</td>\n",
       "      <td>0</td>\n",
       "      <td>0</td>\n",
       "      <td>6</td>\n",
       "      <td>2008</td>\n",
       "      <td>147500</td>\n",
       "    </tr>\n",
       "  </tbody>\n",
       "</table>\n",
       "<p>1460 rows × 37 columns</p>\n",
       "</div>"
      ],
      "text/plain": [
       "      MSSubClass  LotFrontage  LotArea  OverallQual  OverallCond  YearBuilt  \\\n",
       "Id                                                                            \n",
       "1             60         65.0     8450            7            5       2003   \n",
       "2             20         80.0     9600            6            8       1976   \n",
       "3             60         68.0    11250            7            5       2001   \n",
       "4             70         60.0     9550            7            5       1915   \n",
       "5             60         84.0    14260            8            5       2000   \n",
       "...          ...          ...      ...          ...          ...        ...   \n",
       "1456          60         62.0     7917            6            5       1999   \n",
       "1457          20         85.0    13175            6            6       1978   \n",
       "1458          70         66.0     9042            7            9       1941   \n",
       "1459          20         68.0     9717            5            6       1950   \n",
       "1460          20         75.0     9937            5            6       1965   \n",
       "\n",
       "      YearRemodAdd  MasVnrArea  BsmtFinSF1  BsmtFinSF2  ...  WoodDeckSF  \\\n",
       "Id                                                      ...               \n",
       "1             2003       196.0         706           0  ...           0   \n",
       "2             1976         0.0         978           0  ...         298   \n",
       "3             2002       162.0         486           0  ...           0   \n",
       "4             1970         0.0         216           0  ...           0   \n",
       "5             2000       350.0         655           0  ...         192   \n",
       "...            ...         ...         ...         ...  ...         ...   \n",
       "1456          2000         0.0           0           0  ...           0   \n",
       "1457          1988       119.0         790         163  ...         349   \n",
       "1458          2006         0.0         275           0  ...           0   \n",
       "1459          1996         0.0          49        1029  ...         366   \n",
       "1460          1965         0.0         830         290  ...         736   \n",
       "\n",
       "      OpenPorchSF  EnclosedPorch  3SsnPorch  ScreenPorch  PoolArea  MiscVal  \\\n",
       "Id                                                                            \n",
       "1              61              0          0            0         0        0   \n",
       "2               0              0          0            0         0        0   \n",
       "3              42              0          0            0         0        0   \n",
       "4              35            272          0            0         0        0   \n",
       "5              84              0          0            0         0        0   \n",
       "...           ...            ...        ...          ...       ...      ...   \n",
       "1456           40              0          0            0         0        0   \n",
       "1457            0              0          0            0         0        0   \n",
       "1458           60              0          0            0         0     2500   \n",
       "1459            0            112          0            0         0        0   \n",
       "1460           68              0          0            0         0        0   \n",
       "\n",
       "      MoSold  YrSold  SalePrice  \n",
       "Id                               \n",
       "1          2    2008     208500  \n",
       "2          5    2007     181500  \n",
       "3          9    2008     223500  \n",
       "4          2    2006     140000  \n",
       "5         12    2008     250000  \n",
       "...      ...     ...        ...  \n",
       "1456       8    2007     175000  \n",
       "1457       2    2010     210000  \n",
       "1458       5    2010     266500  \n",
       "1459       4    2010     142125  \n",
       "1460       6    2008     147500  \n",
       "\n",
       "[1460 rows x 37 columns]"
      ]
     },
     "execution_count": 20,
     "metadata": {},
     "output_type": "execute_result"
    }
   ],
   "source": [
    "# Display df\n",
    "train[quantitative]"
   ]
  },
  {
   "cell_type": "markdown",
   "metadata": {
    "nteract": {
     "transient": {
      "deleting": false
     }
    }
   },
   "source": [
    "### 1d. Are `dtype`s correct? \n",
    "\n",
    "* visually check whether all the columns look correctly parsed"
   ]
  },
  {
   "cell_type": "code",
   "execution_count": 17,
   "metadata": {
    "scrolled": true
   },
   "outputs": [
    {
     "name": "stdout",
     "output_type": "stream",
     "text": [
      "MSSubClass    60\n",
      "Name: 1, dtype: object\n",
      "MSSubClass       60\n",
      "MSZoning         RL\n",
      "LotFrontage    65.0\n",
      "Name: 1, dtype: object\n",
      "MSSubClass       60\n",
      "MSZoning         RL\n",
      "LotFrontage    65.0\n",
      "LotArea        8450\n",
      "Name: 1, dtype: object\n",
      "MSSubClass           60\n",
      "MSZoning             RL\n",
      "LotFrontage        65.0\n",
      "LotArea            8450\n",
      "Street             Pave\n",
      "Alley               NaN\n",
      "LotShape            Reg\n",
      "LandContour         Lvl\n",
      "Utilities        AllPub\n",
      "LotConfig        Inside\n",
      "LandSlope           Gtl\n",
      "Neighborhood    CollgCr\n",
      "Condition1         Norm\n",
      "Condition2         Norm\n",
      "BldgType           1Fam\n",
      "HouseStyle       2Story\n",
      "OverallQual           7\n",
      "Name: 1, dtype: object\n",
      "MSSubClass           60\n",
      "MSZoning             RL\n",
      "LotFrontage        65.0\n",
      "LotArea            8450\n",
      "Street             Pave\n",
      "Alley               NaN\n",
      "LotShape            Reg\n",
      "LandContour         Lvl\n",
      "Utilities        AllPub\n",
      "LotConfig        Inside\n",
      "LandSlope           Gtl\n",
      "Neighborhood    CollgCr\n",
      "Condition1         Norm\n",
      "Condition2         Norm\n",
      "BldgType           1Fam\n",
      "HouseStyle       2Story\n",
      "OverallQual           7\n",
      "OverallCond           5\n",
      "Name: 1, dtype: object\n",
      "MSSubClass           60\n",
      "MSZoning             RL\n",
      "LotFrontage        65.0\n",
      "LotArea            8450\n",
      "Street             Pave\n",
      "Alley               NaN\n",
      "LotShape            Reg\n",
      "LandContour         Lvl\n",
      "Utilities        AllPub\n",
      "LotConfig        Inside\n",
      "LandSlope           Gtl\n",
      "Neighborhood    CollgCr\n",
      "Condition1         Norm\n",
      "Condition2         Norm\n",
      "BldgType           1Fam\n",
      "HouseStyle       2Story\n",
      "OverallQual           7\n",
      "OverallCond           5\n",
      "YearBuilt          2003\n",
      "Name: 1, dtype: object\n",
      "MSSubClass           60\n",
      "MSZoning             RL\n",
      "LotFrontage        65.0\n",
      "LotArea            8450\n",
      "Street             Pave\n",
      "Alley               NaN\n",
      "LotShape            Reg\n",
      "LandContour         Lvl\n",
      "Utilities        AllPub\n",
      "LotConfig        Inside\n",
      "LandSlope           Gtl\n",
      "Neighborhood    CollgCr\n",
      "Condition1         Norm\n",
      "Condition2         Norm\n",
      "BldgType           1Fam\n",
      "HouseStyle       2Story\n",
      "OverallQual           7\n",
      "OverallCond           5\n",
      "YearBuilt          2003\n",
      "YearRemodAdd       2003\n",
      "Name: 1, dtype: object\n",
      "MSSubClass           60\n",
      "MSZoning             RL\n",
      "LotFrontage        65.0\n",
      "LotArea            8450\n",
      "Street             Pave\n",
      "Alley               NaN\n",
      "LotShape            Reg\n",
      "LandContour         Lvl\n",
      "Utilities        AllPub\n",
      "LotConfig        Inside\n",
      "LandSlope           Gtl\n",
      "Neighborhood    CollgCr\n",
      "Condition1         Norm\n",
      "Condition2         Norm\n",
      "BldgType           1Fam\n",
      "HouseStyle       2Story\n",
      "OverallQual           7\n",
      "OverallCond           5\n",
      "YearBuilt          2003\n",
      "YearRemodAdd       2003\n",
      "RoofStyle         Gable\n",
      "RoofMatl        CompShg\n",
      "Exterior1st     VinylSd\n",
      "Exterior2nd     VinylSd\n",
      "MasVnrType      BrkFace\n",
      "MasVnrArea        196.0\n",
      "Name: 1, dtype: object\n",
      "MSSubClass           60\n",
      "MSZoning             RL\n",
      "LotFrontage        65.0\n",
      "LotArea            8450\n",
      "Street             Pave\n",
      "Alley               NaN\n",
      "LotShape            Reg\n",
      "LandContour         Lvl\n",
      "Utilities        AllPub\n",
      "LotConfig        Inside\n",
      "LandSlope           Gtl\n",
      "Neighborhood    CollgCr\n",
      "Condition1         Norm\n",
      "Condition2         Norm\n",
      "BldgType           1Fam\n",
      "HouseStyle       2Story\n",
      "OverallQual           7\n",
      "OverallCond           5\n",
      "YearBuilt          2003\n",
      "YearRemodAdd       2003\n",
      "RoofStyle         Gable\n",
      "RoofMatl        CompShg\n",
      "Exterior1st     VinylSd\n",
      "Exterior2nd     VinylSd\n",
      "MasVnrType      BrkFace\n",
      "MasVnrArea        196.0\n",
      "ExterQual            Gd\n",
      "ExterCond            TA\n",
      "Foundation        PConc\n",
      "BsmtQual             Gd\n",
      "BsmtCond             TA\n",
      "BsmtExposure         No\n",
      "BsmtFinType1        GLQ\n",
      "BsmtFinSF1          706\n",
      "Name: 1, dtype: object\n",
      "MSSubClass           60\n",
      "MSZoning             RL\n",
      "LotFrontage        65.0\n",
      "LotArea            8450\n",
      "Street             Pave\n",
      "Alley               NaN\n",
      "LotShape            Reg\n",
      "LandContour         Lvl\n",
      "Utilities        AllPub\n",
      "LotConfig        Inside\n",
      "LandSlope           Gtl\n",
      "Neighborhood    CollgCr\n",
      "Condition1         Norm\n",
      "Condition2         Norm\n",
      "BldgType           1Fam\n",
      "HouseStyle       2Story\n",
      "OverallQual           7\n",
      "OverallCond           5\n",
      "YearBuilt          2003\n",
      "YearRemodAdd       2003\n",
      "RoofStyle         Gable\n",
      "RoofMatl        CompShg\n",
      "Exterior1st     VinylSd\n",
      "Exterior2nd     VinylSd\n",
      "MasVnrType      BrkFace\n",
      "MasVnrArea        196.0\n",
      "ExterQual            Gd\n",
      "ExterCond            TA\n",
      "Foundation        PConc\n",
      "BsmtQual             Gd\n",
      "BsmtCond             TA\n",
      "BsmtExposure         No\n",
      "BsmtFinType1        GLQ\n",
      "BsmtFinSF1          706\n",
      "BsmtFinType2        Unf\n",
      "BsmtFinSF2            0\n",
      "Name: 1, dtype: object\n",
      "MSSubClass           60\n",
      "MSZoning             RL\n",
      "LotFrontage        65.0\n",
      "LotArea            8450\n",
      "Street             Pave\n",
      "Alley               NaN\n",
      "LotShape            Reg\n",
      "LandContour         Lvl\n",
      "Utilities        AllPub\n",
      "LotConfig        Inside\n",
      "LandSlope           Gtl\n",
      "Neighborhood    CollgCr\n",
      "Condition1         Norm\n",
      "Condition2         Norm\n",
      "BldgType           1Fam\n",
      "HouseStyle       2Story\n",
      "OverallQual           7\n",
      "OverallCond           5\n",
      "YearBuilt          2003\n",
      "YearRemodAdd       2003\n",
      "RoofStyle         Gable\n",
      "RoofMatl        CompShg\n",
      "Exterior1st     VinylSd\n",
      "Exterior2nd     VinylSd\n",
      "MasVnrType      BrkFace\n",
      "MasVnrArea        196.0\n",
      "ExterQual            Gd\n",
      "ExterCond            TA\n",
      "Foundation        PConc\n",
      "BsmtQual             Gd\n",
      "BsmtCond             TA\n",
      "BsmtExposure         No\n",
      "BsmtFinType1        GLQ\n",
      "BsmtFinSF1          706\n",
      "BsmtFinType2        Unf\n",
      "BsmtFinSF2            0\n",
      "BsmtUnfSF           150\n",
      "Name: 1, dtype: object\n",
      "MSSubClass           60\n",
      "MSZoning             RL\n",
      "LotFrontage        65.0\n",
      "LotArea            8450\n",
      "Street             Pave\n",
      "Alley               NaN\n",
      "LotShape            Reg\n",
      "LandContour         Lvl\n",
      "Utilities        AllPub\n",
      "LotConfig        Inside\n",
      "LandSlope           Gtl\n",
      "Neighborhood    CollgCr\n",
      "Condition1         Norm\n",
      "Condition2         Norm\n",
      "BldgType           1Fam\n",
      "HouseStyle       2Story\n",
      "OverallQual           7\n",
      "OverallCond           5\n",
      "YearBuilt          2003\n",
      "YearRemodAdd       2003\n",
      "RoofStyle         Gable\n",
      "RoofMatl        CompShg\n",
      "Exterior1st     VinylSd\n",
      "Exterior2nd     VinylSd\n",
      "MasVnrType      BrkFace\n",
      "MasVnrArea        196.0\n",
      "ExterQual            Gd\n",
      "ExterCond            TA\n",
      "Foundation        PConc\n",
      "BsmtQual             Gd\n",
      "BsmtCond             TA\n",
      "BsmtExposure         No\n",
      "BsmtFinType1        GLQ\n",
      "BsmtFinSF1          706\n",
      "BsmtFinType2        Unf\n",
      "BsmtFinSF2            0\n",
      "BsmtUnfSF           150\n",
      "TotalBsmtSF         856\n",
      "Name: 1, dtype: object\n",
      "MSSubClass           60\n",
      "MSZoning             RL\n",
      "LotFrontage        65.0\n",
      "LotArea            8450\n",
      "Street             Pave\n",
      "Alley               NaN\n",
      "LotShape            Reg\n",
      "LandContour         Lvl\n",
      "Utilities        AllPub\n",
      "LotConfig        Inside\n",
      "LandSlope           Gtl\n",
      "Neighborhood    CollgCr\n",
      "Condition1         Norm\n",
      "Condition2         Norm\n",
      "BldgType           1Fam\n",
      "HouseStyle       2Story\n",
      "OverallQual           7\n",
      "OverallCond           5\n",
      "YearBuilt          2003\n",
      "YearRemodAdd       2003\n",
      "RoofStyle         Gable\n",
      "RoofMatl        CompShg\n",
      "Exterior1st     VinylSd\n",
      "Exterior2nd     VinylSd\n",
      "MasVnrType      BrkFace\n",
      "MasVnrArea        196.0\n",
      "ExterQual            Gd\n",
      "ExterCond            TA\n",
      "Foundation        PConc\n",
      "BsmtQual             Gd\n",
      "BsmtCond             TA\n",
      "BsmtExposure         No\n",
      "BsmtFinType1        GLQ\n",
      "BsmtFinSF1          706\n",
      "BsmtFinType2        Unf\n",
      "BsmtFinSF2            0\n",
      "BsmtUnfSF           150\n",
      "TotalBsmtSF         856\n",
      "Heating            GasA\n",
      "HeatingQC            Ex\n",
      "CentralAir            Y\n",
      "Electrical        SBrkr\n",
      "1stFlrSF            856\n",
      "Name: 1, dtype: object\n",
      "MSSubClass           60\n",
      "MSZoning             RL\n",
      "LotFrontage        65.0\n",
      "LotArea            8450\n",
      "Street             Pave\n",
      "Alley               NaN\n",
      "LotShape            Reg\n",
      "LandContour         Lvl\n",
      "Utilities        AllPub\n",
      "LotConfig        Inside\n",
      "LandSlope           Gtl\n",
      "Neighborhood    CollgCr\n",
      "Condition1         Norm\n",
      "Condition2         Norm\n",
      "BldgType           1Fam\n",
      "HouseStyle       2Story\n",
      "OverallQual           7\n",
      "OverallCond           5\n",
      "YearBuilt          2003\n",
      "YearRemodAdd       2003\n",
      "RoofStyle         Gable\n",
      "RoofMatl        CompShg\n",
      "Exterior1st     VinylSd\n",
      "Exterior2nd     VinylSd\n",
      "MasVnrType      BrkFace\n",
      "MasVnrArea        196.0\n",
      "ExterQual            Gd\n",
      "ExterCond            TA\n",
      "Foundation        PConc\n",
      "BsmtQual             Gd\n",
      "BsmtCond             TA\n",
      "BsmtExposure         No\n",
      "BsmtFinType1        GLQ\n",
      "BsmtFinSF1          706\n",
      "BsmtFinType2        Unf\n",
      "BsmtFinSF2            0\n",
      "BsmtUnfSF           150\n",
      "TotalBsmtSF         856\n",
      "Heating            GasA\n",
      "HeatingQC            Ex\n",
      "CentralAir            Y\n",
      "Electrical        SBrkr\n",
      "1stFlrSF            856\n",
      "2ndFlrSF            854\n",
      "Name: 1, dtype: object\n",
      "MSSubClass           60\n",
      "MSZoning             RL\n",
      "LotFrontage        65.0\n",
      "LotArea            8450\n",
      "Street             Pave\n",
      "Alley               NaN\n",
      "LotShape            Reg\n",
      "LandContour         Lvl\n",
      "Utilities        AllPub\n",
      "LotConfig        Inside\n",
      "LandSlope           Gtl\n",
      "Neighborhood    CollgCr\n",
      "Condition1         Norm\n",
      "Condition2         Norm\n",
      "BldgType           1Fam\n",
      "HouseStyle       2Story\n",
      "OverallQual           7\n",
      "OverallCond           5\n",
      "YearBuilt          2003\n",
      "YearRemodAdd       2003\n",
      "RoofStyle         Gable\n",
      "RoofMatl        CompShg\n",
      "Exterior1st     VinylSd\n",
      "Exterior2nd     VinylSd\n",
      "MasVnrType      BrkFace\n",
      "MasVnrArea        196.0\n",
      "ExterQual            Gd\n",
      "ExterCond            TA\n",
      "Foundation        PConc\n",
      "BsmtQual             Gd\n",
      "BsmtCond             TA\n",
      "BsmtExposure         No\n",
      "BsmtFinType1        GLQ\n",
      "BsmtFinSF1          706\n",
      "BsmtFinType2        Unf\n",
      "BsmtFinSF2            0\n",
      "BsmtUnfSF           150\n",
      "TotalBsmtSF         856\n",
      "Heating            GasA\n",
      "HeatingQC            Ex\n",
      "CentralAir            Y\n",
      "Electrical        SBrkr\n",
      "1stFlrSF            856\n",
      "2ndFlrSF            854\n",
      "LowQualFinSF          0\n",
      "Name: 1, dtype: object\n",
      "MSSubClass           60\n",
      "MSZoning             RL\n",
      "LotFrontage        65.0\n",
      "LotArea            8450\n",
      "Street             Pave\n",
      "Alley               NaN\n",
      "LotShape            Reg\n",
      "LandContour         Lvl\n",
      "Utilities        AllPub\n",
      "LotConfig        Inside\n",
      "LandSlope           Gtl\n",
      "Neighborhood    CollgCr\n",
      "Condition1         Norm\n",
      "Condition2         Norm\n",
      "BldgType           1Fam\n",
      "HouseStyle       2Story\n",
      "OverallQual           7\n",
      "OverallCond           5\n",
      "YearBuilt          2003\n",
      "YearRemodAdd       2003\n",
      "RoofStyle         Gable\n",
      "RoofMatl        CompShg\n",
      "Exterior1st     VinylSd\n",
      "Exterior2nd     VinylSd\n",
      "MasVnrType      BrkFace\n",
      "MasVnrArea        196.0\n",
      "ExterQual            Gd\n",
      "ExterCond            TA\n",
      "Foundation        PConc\n",
      "BsmtQual             Gd\n",
      "BsmtCond             TA\n",
      "BsmtExposure         No\n",
      "BsmtFinType1        GLQ\n",
      "BsmtFinSF1          706\n",
      "BsmtFinType2        Unf\n",
      "BsmtFinSF2            0\n",
      "BsmtUnfSF           150\n",
      "TotalBsmtSF         856\n",
      "Heating            GasA\n",
      "HeatingQC            Ex\n",
      "CentralAir            Y\n",
      "Electrical        SBrkr\n",
      "1stFlrSF            856\n",
      "2ndFlrSF            854\n",
      "LowQualFinSF          0\n",
      "GrLivArea          1710\n",
      "Name: 1, dtype: object\n",
      "MSSubClass           60\n",
      "MSZoning             RL\n",
      "LotFrontage        65.0\n",
      "LotArea            8450\n",
      "Street             Pave\n",
      "Alley               NaN\n",
      "LotShape            Reg\n",
      "LandContour         Lvl\n",
      "Utilities        AllPub\n",
      "LotConfig        Inside\n",
      "LandSlope           Gtl\n",
      "Neighborhood    CollgCr\n",
      "Condition1         Norm\n",
      "Condition2         Norm\n",
      "BldgType           1Fam\n",
      "HouseStyle       2Story\n",
      "OverallQual           7\n",
      "OverallCond           5\n",
      "YearBuilt          2003\n",
      "YearRemodAdd       2003\n",
      "RoofStyle         Gable\n",
      "RoofMatl        CompShg\n",
      "Exterior1st     VinylSd\n",
      "Exterior2nd     VinylSd\n",
      "MasVnrType      BrkFace\n",
      "MasVnrArea        196.0\n",
      "ExterQual            Gd\n",
      "ExterCond            TA\n",
      "Foundation        PConc\n",
      "BsmtQual             Gd\n",
      "BsmtCond             TA\n",
      "BsmtExposure         No\n",
      "BsmtFinType1        GLQ\n",
      "BsmtFinSF1          706\n",
      "BsmtFinType2        Unf\n",
      "BsmtFinSF2            0\n",
      "BsmtUnfSF           150\n",
      "TotalBsmtSF         856\n",
      "Heating            GasA\n",
      "HeatingQC            Ex\n",
      "CentralAir            Y\n",
      "Electrical        SBrkr\n",
      "1stFlrSF            856\n",
      "2ndFlrSF            854\n",
      "LowQualFinSF          0\n",
      "GrLivArea          1710\n",
      "BsmtFullBath          1\n",
      "Name: 1, dtype: object\n",
      "MSSubClass           60\n",
      "MSZoning             RL\n",
      "LotFrontage        65.0\n",
      "LotArea            8450\n",
      "Street             Pave\n",
      "Alley               NaN\n",
      "LotShape            Reg\n",
      "LandContour         Lvl\n",
      "Utilities        AllPub\n",
      "LotConfig        Inside\n",
      "LandSlope           Gtl\n",
      "Neighborhood    CollgCr\n",
      "Condition1         Norm\n",
      "Condition2         Norm\n",
      "BldgType           1Fam\n",
      "HouseStyle       2Story\n",
      "OverallQual           7\n",
      "OverallCond           5\n",
      "YearBuilt          2003\n",
      "YearRemodAdd       2003\n",
      "RoofStyle         Gable\n",
      "RoofMatl        CompShg\n",
      "Exterior1st     VinylSd\n",
      "Exterior2nd     VinylSd\n",
      "MasVnrType      BrkFace\n",
      "MasVnrArea        196.0\n",
      "ExterQual            Gd\n",
      "ExterCond            TA\n",
      "Foundation        PConc\n",
      "BsmtQual             Gd\n",
      "BsmtCond             TA\n",
      "BsmtExposure         No\n",
      "BsmtFinType1        GLQ\n",
      "BsmtFinSF1          706\n",
      "BsmtFinType2        Unf\n",
      "BsmtFinSF2            0\n",
      "BsmtUnfSF           150\n",
      "TotalBsmtSF         856\n",
      "Heating            GasA\n",
      "HeatingQC            Ex\n",
      "CentralAir            Y\n",
      "Electrical        SBrkr\n",
      "1stFlrSF            856\n",
      "2ndFlrSF            854\n",
      "LowQualFinSF          0\n",
      "GrLivArea          1710\n",
      "BsmtFullBath          1\n",
      "BsmtHalfBath          0\n",
      "Name: 1, dtype: object\n",
      "MSSubClass           60\n",
      "MSZoning             RL\n",
      "LotFrontage        65.0\n",
      "LotArea            8450\n",
      "Street             Pave\n",
      "Alley               NaN\n",
      "LotShape            Reg\n",
      "LandContour         Lvl\n",
      "Utilities        AllPub\n",
      "LotConfig        Inside\n",
      "LandSlope           Gtl\n",
      "Neighborhood    CollgCr\n",
      "Condition1         Norm\n",
      "Condition2         Norm\n",
      "BldgType           1Fam\n",
      "HouseStyle       2Story\n",
      "OverallQual           7\n",
      "OverallCond           5\n",
      "YearBuilt          2003\n",
      "YearRemodAdd       2003\n",
      "RoofStyle         Gable\n",
      "RoofMatl        CompShg\n",
      "Exterior1st     VinylSd\n",
      "Exterior2nd     VinylSd\n",
      "MasVnrType      BrkFace\n",
      "MasVnrArea        196.0\n",
      "ExterQual            Gd\n",
      "ExterCond            TA\n",
      "Foundation        PConc\n",
      "BsmtQual             Gd\n",
      "BsmtCond             TA\n",
      "BsmtExposure         No\n",
      "BsmtFinType1        GLQ\n",
      "BsmtFinSF1          706\n",
      "BsmtFinType2        Unf\n",
      "BsmtFinSF2            0\n",
      "BsmtUnfSF           150\n",
      "TotalBsmtSF         856\n",
      "Heating            GasA\n",
      "HeatingQC            Ex\n",
      "CentralAir            Y\n",
      "Electrical        SBrkr\n",
      "1stFlrSF            856\n",
      "2ndFlrSF            854\n",
      "LowQualFinSF          0\n",
      "GrLivArea          1710\n",
      "BsmtFullBath          1\n",
      "BsmtHalfBath          0\n",
      "FullBath              2\n",
      "Name: 1, dtype: object\n",
      "MSSubClass           60\n",
      "MSZoning             RL\n",
      "LotFrontage        65.0\n",
      "LotArea            8450\n",
      "Street             Pave\n",
      "Alley               NaN\n",
      "LotShape            Reg\n",
      "LandContour         Lvl\n",
      "Utilities        AllPub\n",
      "LotConfig        Inside\n",
      "LandSlope           Gtl\n",
      "Neighborhood    CollgCr\n",
      "Condition1         Norm\n",
      "Condition2         Norm\n",
      "BldgType           1Fam\n",
      "HouseStyle       2Story\n",
      "OverallQual           7\n",
      "OverallCond           5\n",
      "YearBuilt          2003\n",
      "YearRemodAdd       2003\n",
      "RoofStyle         Gable\n",
      "RoofMatl        CompShg\n",
      "Exterior1st     VinylSd\n",
      "Exterior2nd     VinylSd\n",
      "MasVnrType      BrkFace\n",
      "MasVnrArea        196.0\n",
      "ExterQual            Gd\n",
      "ExterCond            TA\n",
      "Foundation        PConc\n",
      "BsmtQual             Gd\n",
      "BsmtCond             TA\n",
      "BsmtExposure         No\n",
      "BsmtFinType1        GLQ\n",
      "BsmtFinSF1          706\n",
      "BsmtFinType2        Unf\n",
      "BsmtFinSF2            0\n",
      "BsmtUnfSF           150\n",
      "TotalBsmtSF         856\n",
      "Heating            GasA\n",
      "HeatingQC            Ex\n",
      "CentralAir            Y\n",
      "Electrical        SBrkr\n",
      "1stFlrSF            856\n",
      "2ndFlrSF            854\n",
      "LowQualFinSF          0\n",
      "GrLivArea          1710\n",
      "BsmtFullBath          1\n",
      "BsmtHalfBath          0\n",
      "FullBath              2\n",
      "HalfBath              1\n",
      "Name: 1, dtype: object\n",
      "MSSubClass           60\n",
      "MSZoning             RL\n",
      "LotFrontage        65.0\n",
      "LotArea            8450\n",
      "Street             Pave\n",
      "Alley               NaN\n",
      "LotShape            Reg\n",
      "LandContour         Lvl\n",
      "Utilities        AllPub\n",
      "LotConfig        Inside\n",
      "LandSlope           Gtl\n",
      "Neighborhood    CollgCr\n",
      "Condition1         Norm\n",
      "Condition2         Norm\n",
      "BldgType           1Fam\n",
      "HouseStyle       2Story\n",
      "OverallQual           7\n",
      "OverallCond           5\n",
      "YearBuilt          2003\n",
      "YearRemodAdd       2003\n",
      "RoofStyle         Gable\n",
      "RoofMatl        CompShg\n",
      "Exterior1st     VinylSd\n",
      "Exterior2nd     VinylSd\n",
      "MasVnrType      BrkFace\n",
      "MasVnrArea        196.0\n",
      "ExterQual            Gd\n",
      "ExterCond            TA\n",
      "Foundation        PConc\n",
      "BsmtQual             Gd\n",
      "BsmtCond             TA\n",
      "BsmtExposure         No\n",
      "BsmtFinType1        GLQ\n",
      "BsmtFinSF1          706\n",
      "BsmtFinType2        Unf\n",
      "BsmtFinSF2            0\n",
      "BsmtUnfSF           150\n",
      "TotalBsmtSF         856\n",
      "Heating            GasA\n",
      "HeatingQC            Ex\n",
      "CentralAir            Y\n",
      "Electrical        SBrkr\n",
      "1stFlrSF            856\n",
      "2ndFlrSF            854\n",
      "LowQualFinSF          0\n",
      "GrLivArea          1710\n",
      "BsmtFullBath          1\n",
      "BsmtHalfBath          0\n",
      "FullBath              2\n",
      "HalfBath              1\n",
      "BedroomAbvGr          3\n",
      "Name: 1, dtype: object\n",
      "MSSubClass           60\n",
      "MSZoning             RL\n",
      "LotFrontage        65.0\n",
      "LotArea            8450\n",
      "Street             Pave\n",
      "Alley               NaN\n",
      "LotShape            Reg\n",
      "LandContour         Lvl\n",
      "Utilities        AllPub\n",
      "LotConfig        Inside\n",
      "LandSlope           Gtl\n",
      "Neighborhood    CollgCr\n",
      "Condition1         Norm\n",
      "Condition2         Norm\n",
      "BldgType           1Fam\n",
      "HouseStyle       2Story\n",
      "OverallQual           7\n",
      "OverallCond           5\n",
      "YearBuilt          2003\n",
      "YearRemodAdd       2003\n",
      "RoofStyle         Gable\n",
      "RoofMatl        CompShg\n",
      "Exterior1st     VinylSd\n",
      "Exterior2nd     VinylSd\n",
      "MasVnrType      BrkFace\n",
      "MasVnrArea        196.0\n",
      "ExterQual            Gd\n",
      "ExterCond            TA\n",
      "Foundation        PConc\n",
      "BsmtQual             Gd\n",
      "BsmtCond             TA\n",
      "BsmtExposure         No\n",
      "BsmtFinType1        GLQ\n",
      "BsmtFinSF1          706\n",
      "BsmtFinType2        Unf\n",
      "BsmtFinSF2            0\n",
      "BsmtUnfSF           150\n",
      "TotalBsmtSF         856\n",
      "Heating            GasA\n",
      "HeatingQC            Ex\n",
      "CentralAir            Y\n",
      "Electrical        SBrkr\n",
      "1stFlrSF            856\n",
      "2ndFlrSF            854\n",
      "LowQualFinSF          0\n",
      "GrLivArea          1710\n",
      "BsmtFullBath          1\n",
      "BsmtHalfBath          0\n",
      "FullBath              2\n",
      "HalfBath              1\n",
      "BedroomAbvGr          3\n",
      "KitchenAbvGr          1\n",
      "Name: 1, dtype: object\n",
      "MSSubClass           60\n",
      "MSZoning             RL\n",
      "LotFrontage        65.0\n",
      "LotArea            8450\n",
      "Street             Pave\n",
      "Alley               NaN\n",
      "LotShape            Reg\n",
      "LandContour         Lvl\n",
      "Utilities        AllPub\n",
      "LotConfig        Inside\n",
      "LandSlope           Gtl\n",
      "Neighborhood    CollgCr\n",
      "Condition1         Norm\n",
      "Condition2         Norm\n",
      "BldgType           1Fam\n",
      "HouseStyle       2Story\n",
      "OverallQual           7\n",
      "OverallCond           5\n",
      "YearBuilt          2003\n",
      "YearRemodAdd       2003\n",
      "RoofStyle         Gable\n",
      "RoofMatl        CompShg\n",
      "Exterior1st     VinylSd\n",
      "Exterior2nd     VinylSd\n",
      "MasVnrType      BrkFace\n",
      "MasVnrArea        196.0\n",
      "ExterQual            Gd\n",
      "ExterCond            TA\n",
      "Foundation        PConc\n",
      "BsmtQual             Gd\n",
      "BsmtCond             TA\n",
      "BsmtExposure         No\n",
      "BsmtFinType1        GLQ\n",
      "BsmtFinSF1          706\n",
      "BsmtFinType2        Unf\n",
      "BsmtFinSF2            0\n",
      "BsmtUnfSF           150\n",
      "TotalBsmtSF         856\n",
      "Heating            GasA\n",
      "HeatingQC            Ex\n",
      "CentralAir            Y\n",
      "Electrical        SBrkr\n",
      "1stFlrSF            856\n",
      "2ndFlrSF            854\n",
      "LowQualFinSF          0\n",
      "GrLivArea          1710\n",
      "BsmtFullBath          1\n",
      "BsmtHalfBath          0\n",
      "FullBath              2\n",
      "HalfBath              1\n",
      "BedroomAbvGr          3\n",
      "KitchenAbvGr          1\n",
      "KitchenQual          Gd\n",
      "TotRmsAbvGrd          8\n",
      "Name: 1, dtype: object\n",
      "MSSubClass           60\n",
      "MSZoning             RL\n",
      "LotFrontage        65.0\n",
      "LotArea            8450\n",
      "Street             Pave\n",
      "Alley               NaN\n",
      "LotShape            Reg\n",
      "LandContour         Lvl\n",
      "Utilities        AllPub\n",
      "LotConfig        Inside\n",
      "LandSlope           Gtl\n",
      "Neighborhood    CollgCr\n",
      "Condition1         Norm\n",
      "Condition2         Norm\n",
      "BldgType           1Fam\n",
      "HouseStyle       2Story\n",
      "OverallQual           7\n",
      "OverallCond           5\n",
      "YearBuilt          2003\n",
      "YearRemodAdd       2003\n",
      "RoofStyle         Gable\n",
      "RoofMatl        CompShg\n",
      "Exterior1st     VinylSd\n",
      "Exterior2nd     VinylSd\n",
      "MasVnrType      BrkFace\n",
      "MasVnrArea        196.0\n",
      "ExterQual            Gd\n",
      "ExterCond            TA\n",
      "Foundation        PConc\n",
      "BsmtQual             Gd\n",
      "BsmtCond             TA\n",
      "BsmtExposure         No\n",
      "BsmtFinType1        GLQ\n",
      "BsmtFinSF1          706\n",
      "BsmtFinType2        Unf\n",
      "BsmtFinSF2            0\n",
      "BsmtUnfSF           150\n",
      "TotalBsmtSF         856\n",
      "Heating            GasA\n",
      "HeatingQC            Ex\n",
      "CentralAir            Y\n",
      "Electrical        SBrkr\n",
      "1stFlrSF            856\n",
      "2ndFlrSF            854\n",
      "LowQualFinSF          0\n",
      "GrLivArea          1710\n",
      "BsmtFullBath          1\n",
      "BsmtHalfBath          0\n",
      "FullBath              2\n",
      "HalfBath              1\n",
      "BedroomAbvGr          3\n",
      "KitchenAbvGr          1\n",
      "KitchenQual          Gd\n",
      "TotRmsAbvGrd          8\n",
      "Functional          Typ\n",
      "Fireplaces            0\n",
      "Name: 1, dtype: object\n",
      "MSSubClass           60\n",
      "MSZoning             RL\n",
      "LotFrontage        65.0\n",
      "LotArea            8450\n",
      "Street             Pave\n",
      "Alley               NaN\n",
      "LotShape            Reg\n",
      "LandContour         Lvl\n",
      "Utilities        AllPub\n",
      "LotConfig        Inside\n",
      "LandSlope           Gtl\n",
      "Neighborhood    CollgCr\n",
      "Condition1         Norm\n",
      "Condition2         Norm\n",
      "BldgType           1Fam\n",
      "HouseStyle       2Story\n",
      "OverallQual           7\n",
      "OverallCond           5\n",
      "YearBuilt          2003\n",
      "YearRemodAdd       2003\n",
      "RoofStyle         Gable\n",
      "RoofMatl        CompShg\n",
      "Exterior1st     VinylSd\n",
      "Exterior2nd     VinylSd\n",
      "MasVnrType      BrkFace\n",
      "MasVnrArea        196.0\n",
      "ExterQual            Gd\n",
      "ExterCond            TA\n",
      "Foundation        PConc\n",
      "BsmtQual             Gd\n",
      "BsmtCond             TA\n",
      "BsmtExposure         No\n",
      "BsmtFinType1        GLQ\n",
      "BsmtFinSF1          706\n",
      "BsmtFinType2        Unf\n",
      "BsmtFinSF2            0\n",
      "BsmtUnfSF           150\n",
      "TotalBsmtSF         856\n",
      "Heating            GasA\n",
      "HeatingQC            Ex\n",
      "CentralAir            Y\n",
      "Electrical        SBrkr\n",
      "1stFlrSF            856\n",
      "2ndFlrSF            854\n",
      "LowQualFinSF          0\n",
      "GrLivArea          1710\n",
      "BsmtFullBath          1\n",
      "BsmtHalfBath          0\n",
      "FullBath              2\n",
      "HalfBath              1\n",
      "BedroomAbvGr          3\n",
      "KitchenAbvGr          1\n",
      "KitchenQual          Gd\n",
      "TotRmsAbvGrd          8\n",
      "Functional          Typ\n",
      "Fireplaces            0\n",
      "FireplaceQu         NaN\n",
      "GarageType       Attchd\n",
      "GarageYrBlt      2003.0\n",
      "Name: 1, dtype: object\n",
      "MSSubClass          60\n",
      "MSZoning            RL\n",
      "LotFrontage       65.0\n",
      "LotArea           8450\n",
      "Street            Pave\n",
      "                 ...  \n",
      "FireplaceQu        NaN\n",
      "GarageType      Attchd\n",
      "GarageYrBlt     2003.0\n",
      "GarageFinish       RFn\n",
      "GarageCars           2\n",
      "Name: 1, Length: 61, dtype: object\n",
      "MSSubClass          60\n",
      "MSZoning            RL\n",
      "LotFrontage       65.0\n",
      "LotArea           8450\n",
      "Street            Pave\n",
      "                 ...  \n",
      "GarageType      Attchd\n",
      "GarageYrBlt     2003.0\n",
      "GarageFinish       RFn\n",
      "GarageCars           2\n",
      "GarageArea         548\n",
      "Name: 1, Length: 62, dtype: object\n",
      "MSSubClass       60\n",
      "MSZoning         RL\n",
      "LotFrontage    65.0\n",
      "LotArea        8450\n",
      "Street         Pave\n",
      "               ... \n",
      "GarageArea      548\n",
      "GarageQual       TA\n",
      "GarageCond       TA\n",
      "PavedDrive        Y\n",
      "WoodDeckSF        0\n",
      "Name: 1, Length: 66, dtype: object\n",
      "MSSubClass       60\n",
      "MSZoning         RL\n",
      "LotFrontage    65.0\n",
      "LotArea        8450\n",
      "Street         Pave\n",
      "               ... \n",
      "GarageQual       TA\n",
      "GarageCond       TA\n",
      "PavedDrive        Y\n",
      "WoodDeckSF        0\n",
      "OpenPorchSF      61\n",
      "Name: 1, Length: 67, dtype: object\n",
      "MSSubClass         60\n",
      "MSZoning           RL\n",
      "LotFrontage      65.0\n",
      "LotArea          8450\n",
      "Street           Pave\n",
      "                 ... \n",
      "GarageCond         TA\n",
      "PavedDrive          Y\n",
      "WoodDeckSF          0\n",
      "OpenPorchSF        61\n",
      "EnclosedPorch       0\n",
      "Name: 1, Length: 68, dtype: object\n",
      "MSSubClass         60\n",
      "MSZoning           RL\n",
      "LotFrontage      65.0\n",
      "LotArea          8450\n",
      "Street           Pave\n",
      "                 ... \n",
      "PavedDrive          Y\n",
      "WoodDeckSF          0\n",
      "OpenPorchSF        61\n",
      "EnclosedPorch       0\n",
      "3SsnPorch           0\n",
      "Name: 1, Length: 69, dtype: object\n",
      "MSSubClass         60\n",
      "MSZoning           RL\n",
      "LotFrontage      65.0\n",
      "LotArea          8450\n",
      "Street           Pave\n",
      "                 ... \n",
      "WoodDeckSF          0\n",
      "OpenPorchSF        61\n",
      "EnclosedPorch       0\n",
      "3SsnPorch           0\n",
      "ScreenPorch         0\n",
      "Name: 1, Length: 70, dtype: object\n",
      "MSSubClass         60\n",
      "MSZoning           RL\n",
      "LotFrontage      65.0\n",
      "LotArea          8450\n",
      "Street           Pave\n",
      "                 ... \n",
      "OpenPorchSF        61\n",
      "EnclosedPorch       0\n",
      "3SsnPorch           0\n",
      "ScreenPorch         0\n",
      "PoolArea            0\n",
      "Name: 1, Length: 71, dtype: object\n",
      "MSSubClass       60\n",
      "MSZoning         RL\n",
      "LotFrontage    65.0\n",
      "LotArea        8450\n",
      "Street         Pave\n",
      "               ... \n",
      "PoolArea          0\n",
      "PoolQC          NaN\n",
      "Fence           NaN\n",
      "MiscFeature     NaN\n",
      "MiscVal           0\n",
      "Name: 1, Length: 75, dtype: object\n",
      "MSSubClass       60\n",
      "MSZoning         RL\n",
      "LotFrontage    65.0\n",
      "LotArea        8450\n",
      "Street         Pave\n",
      "               ... \n",
      "PoolQC          NaN\n",
      "Fence           NaN\n",
      "MiscFeature     NaN\n",
      "MiscVal           0\n",
      "MoSold            2\n",
      "Name: 1, Length: 76, dtype: object\n",
      "MSSubClass       60\n",
      "MSZoning         RL\n",
      "LotFrontage    65.0\n",
      "LotArea        8450\n",
      "Street         Pave\n",
      "               ... \n",
      "Fence           NaN\n",
      "MiscFeature     NaN\n",
      "MiscVal           0\n",
      "MoSold            2\n",
      "YrSold         2008\n",
      "Name: 1, Length: 77, dtype: object\n",
      "MSSubClass           60\n",
      "MSZoning             RL\n",
      "LotFrontage        65.0\n",
      "LotArea            8450\n",
      "Street             Pave\n",
      "                  ...  \n",
      "MoSold                2\n",
      "YrSold             2008\n",
      "SaleType             WD\n",
      "SaleCondition    Normal\n",
      "SalePrice        208500\n",
      "Name: 1, Length: 80, dtype: object\n"
     ]
    }
   ],
   "source": [
    "for i in range(len(quant_list)):\n",
    "    if (i%2 != 0):\n",
    "        for j in range(len(train.columns)):\n",
    "            if (train.columns[j] == quant_list[i]):\n",
    "                print(train.loc[1, :quant_list[i]])\n",
    "        \n",
    "        "
   ]
  },
  {
   "cell_type": "code",
   "execution_count": 154,
   "metadata": {
    "gather": {
     "logged": 1665932228725
    },
    "jupyter": {
     "outputs_hidden": false,
     "source_hidden": false
    },
    "nteract": {
     "transient": {
      "deleting": false
     }
    }
   },
   "outputs": [],
   "source": [
    "# check a handful of columns and then compare"
   ]
  },
  {
   "cell_type": "code",
   "execution_count": 22,
   "metadata": {},
   "outputs": [
    {
     "data": {
      "text/html": [
       "<style type=\"text/css\">\n",
       "</style>\n",
       "<table id=\"T_1b3fa_\">\n",
       "  <thead>\n",
       "    <tr>\n",
       "      <th class=\"blank level0\" >&nbsp;</th>\n",
       "      <th class=\"col_heading level0 col0\" >MSZoning</th>\n",
       "      <th class=\"col_heading level0 col1\" >Street</th>\n",
       "      <th class=\"col_heading level0 col2\" >Alley</th>\n",
       "      <th class=\"col_heading level0 col3\" >LotShape</th>\n",
       "      <th class=\"col_heading level0 col4\" >LandContour</th>\n",
       "      <th class=\"col_heading level0 col5\" >Utilities</th>\n",
       "      <th class=\"col_heading level0 col6\" >LotConfig</th>\n",
       "      <th class=\"col_heading level0 col7\" >LandSlope</th>\n",
       "      <th class=\"col_heading level0 col8\" >Neighborhood</th>\n",
       "      <th class=\"col_heading level0 col9\" >Condition1</th>\n",
       "      <th class=\"col_heading level0 col10\" >Condition2</th>\n",
       "      <th class=\"col_heading level0 col11\" >BldgType</th>\n",
       "      <th class=\"col_heading level0 col12\" >HouseStyle</th>\n",
       "      <th class=\"col_heading level0 col13\" >RoofStyle</th>\n",
       "      <th class=\"col_heading level0 col14\" >RoofMatl</th>\n",
       "      <th class=\"col_heading level0 col15\" >Exterior1st</th>\n",
       "      <th class=\"col_heading level0 col16\" >Exterior2nd</th>\n",
       "      <th class=\"col_heading level0 col17\" >MasVnrType</th>\n",
       "      <th class=\"col_heading level0 col18\" >ExterQual</th>\n",
       "      <th class=\"col_heading level0 col19\" >ExterCond</th>\n",
       "      <th class=\"col_heading level0 col20\" >Foundation</th>\n",
       "      <th class=\"col_heading level0 col21\" >BsmtQual</th>\n",
       "      <th class=\"col_heading level0 col22\" >BsmtCond</th>\n",
       "      <th class=\"col_heading level0 col23\" >BsmtExposure</th>\n",
       "      <th class=\"col_heading level0 col24\" >BsmtFinType1</th>\n",
       "      <th class=\"col_heading level0 col25\" >BsmtFinType2</th>\n",
       "      <th class=\"col_heading level0 col26\" >Heating</th>\n",
       "      <th class=\"col_heading level0 col27\" >HeatingQC</th>\n",
       "      <th class=\"col_heading level0 col28\" >CentralAir</th>\n",
       "      <th class=\"col_heading level0 col29\" >Electrical</th>\n",
       "      <th class=\"col_heading level0 col30\" >KitchenQual</th>\n",
       "      <th class=\"col_heading level0 col31\" >Functional</th>\n",
       "      <th class=\"col_heading level0 col32\" >FireplaceQu</th>\n",
       "      <th class=\"col_heading level0 col33\" >GarageType</th>\n",
       "      <th class=\"col_heading level0 col34\" >GarageFinish</th>\n",
       "      <th class=\"col_heading level0 col35\" >GarageQual</th>\n",
       "      <th class=\"col_heading level0 col36\" >GarageCond</th>\n",
       "      <th class=\"col_heading level0 col37\" >PavedDrive</th>\n",
       "      <th class=\"col_heading level0 col38\" >PoolQC</th>\n",
       "      <th class=\"col_heading level0 col39\" >Fence</th>\n",
       "      <th class=\"col_heading level0 col40\" >MiscFeature</th>\n",
       "      <th class=\"col_heading level0 col41\" >SaleType</th>\n",
       "      <th class=\"col_heading level0 col42\" >SaleCondition</th>\n",
       "    </tr>\n",
       "    <tr>\n",
       "      <th class=\"index_name level0\" >Id</th>\n",
       "      <th class=\"blank col0\" >&nbsp;</th>\n",
       "      <th class=\"blank col1\" >&nbsp;</th>\n",
       "      <th class=\"blank col2\" >&nbsp;</th>\n",
       "      <th class=\"blank col3\" >&nbsp;</th>\n",
       "      <th class=\"blank col4\" >&nbsp;</th>\n",
       "      <th class=\"blank col5\" >&nbsp;</th>\n",
       "      <th class=\"blank col6\" >&nbsp;</th>\n",
       "      <th class=\"blank col7\" >&nbsp;</th>\n",
       "      <th class=\"blank col8\" >&nbsp;</th>\n",
       "      <th class=\"blank col9\" >&nbsp;</th>\n",
       "      <th class=\"blank col10\" >&nbsp;</th>\n",
       "      <th class=\"blank col11\" >&nbsp;</th>\n",
       "      <th class=\"blank col12\" >&nbsp;</th>\n",
       "      <th class=\"blank col13\" >&nbsp;</th>\n",
       "      <th class=\"blank col14\" >&nbsp;</th>\n",
       "      <th class=\"blank col15\" >&nbsp;</th>\n",
       "      <th class=\"blank col16\" >&nbsp;</th>\n",
       "      <th class=\"blank col17\" >&nbsp;</th>\n",
       "      <th class=\"blank col18\" >&nbsp;</th>\n",
       "      <th class=\"blank col19\" >&nbsp;</th>\n",
       "      <th class=\"blank col20\" >&nbsp;</th>\n",
       "      <th class=\"blank col21\" >&nbsp;</th>\n",
       "      <th class=\"blank col22\" >&nbsp;</th>\n",
       "      <th class=\"blank col23\" >&nbsp;</th>\n",
       "      <th class=\"blank col24\" >&nbsp;</th>\n",
       "      <th class=\"blank col25\" >&nbsp;</th>\n",
       "      <th class=\"blank col26\" >&nbsp;</th>\n",
       "      <th class=\"blank col27\" >&nbsp;</th>\n",
       "      <th class=\"blank col28\" >&nbsp;</th>\n",
       "      <th class=\"blank col29\" >&nbsp;</th>\n",
       "      <th class=\"blank col30\" >&nbsp;</th>\n",
       "      <th class=\"blank col31\" >&nbsp;</th>\n",
       "      <th class=\"blank col32\" >&nbsp;</th>\n",
       "      <th class=\"blank col33\" >&nbsp;</th>\n",
       "      <th class=\"blank col34\" >&nbsp;</th>\n",
       "      <th class=\"blank col35\" >&nbsp;</th>\n",
       "      <th class=\"blank col36\" >&nbsp;</th>\n",
       "      <th class=\"blank col37\" >&nbsp;</th>\n",
       "      <th class=\"blank col38\" >&nbsp;</th>\n",
       "      <th class=\"blank col39\" >&nbsp;</th>\n",
       "      <th class=\"blank col40\" >&nbsp;</th>\n",
       "      <th class=\"blank col41\" >&nbsp;</th>\n",
       "      <th class=\"blank col42\" >&nbsp;</th>\n",
       "    </tr>\n",
       "  </thead>\n",
       "  <tbody>\n",
       "    <tr>\n",
       "      <th id=\"T_1b3fa_level0_row0\" class=\"row_heading level0 row0\" >996</th>\n",
       "      <td id=\"T_1b3fa_row0_col0\" class=\"data row0 col0\" >RL</td>\n",
       "      <td id=\"T_1b3fa_row0_col1\" class=\"data row0 col1\" >Pave</td>\n",
       "      <td id=\"T_1b3fa_row0_col2\" class=\"data row0 col2\" >nan</td>\n",
       "      <td id=\"T_1b3fa_row0_col3\" class=\"data row0 col3\" >IR1</td>\n",
       "      <td id=\"T_1b3fa_row0_col4\" class=\"data row0 col4\" >Lvl</td>\n",
       "      <td id=\"T_1b3fa_row0_col5\" class=\"data row0 col5\" >AllPub</td>\n",
       "      <td id=\"T_1b3fa_row0_col6\" class=\"data row0 col6\" >Inside</td>\n",
       "      <td id=\"T_1b3fa_row0_col7\" class=\"data row0 col7\" >Mod</td>\n",
       "      <td id=\"T_1b3fa_row0_col8\" class=\"data row0 col8\" >BrkSide</td>\n",
       "      <td id=\"T_1b3fa_row0_col9\" class=\"data row0 col9\" >Feedr</td>\n",
       "      <td id=\"T_1b3fa_row0_col10\" class=\"data row0 col10\" >Norm</td>\n",
       "      <td id=\"T_1b3fa_row0_col11\" class=\"data row0 col11\" >1Fam</td>\n",
       "      <td id=\"T_1b3fa_row0_col12\" class=\"data row0 col12\" >1.5Fin</td>\n",
       "      <td id=\"T_1b3fa_row0_col13\" class=\"data row0 col13\" >Gable</td>\n",
       "      <td id=\"T_1b3fa_row0_col14\" class=\"data row0 col14\" >CompShg</td>\n",
       "      <td id=\"T_1b3fa_row0_col15\" class=\"data row0 col15\" >MetalSd</td>\n",
       "      <td id=\"T_1b3fa_row0_col16\" class=\"data row0 col16\" >MetalSd</td>\n",
       "      <td id=\"T_1b3fa_row0_col17\" class=\"data row0 col17\" >None</td>\n",
       "      <td id=\"T_1b3fa_row0_col18\" class=\"data row0 col18\" >TA</td>\n",
       "      <td id=\"T_1b3fa_row0_col19\" class=\"data row0 col19\" >TA</td>\n",
       "      <td id=\"T_1b3fa_row0_col20\" class=\"data row0 col20\" >CBlock</td>\n",
       "      <td id=\"T_1b3fa_row0_col21\" class=\"data row0 col21\" >TA</td>\n",
       "      <td id=\"T_1b3fa_row0_col22\" class=\"data row0 col22\" >TA</td>\n",
       "      <td id=\"T_1b3fa_row0_col23\" class=\"data row0 col23\" >No</td>\n",
       "      <td id=\"T_1b3fa_row0_col24\" class=\"data row0 col24\" >ALQ</td>\n",
       "      <td id=\"T_1b3fa_row0_col25\" class=\"data row0 col25\" >Unf</td>\n",
       "      <td id=\"T_1b3fa_row0_col26\" class=\"data row0 col26\" >GasA</td>\n",
       "      <td id=\"T_1b3fa_row0_col27\" class=\"data row0 col27\" >TA</td>\n",
       "      <td id=\"T_1b3fa_row0_col28\" class=\"data row0 col28\" >Y</td>\n",
       "      <td id=\"T_1b3fa_row0_col29\" class=\"data row0 col29\" >SBrkr</td>\n",
       "      <td id=\"T_1b3fa_row0_col30\" class=\"data row0 col30\" >TA</td>\n",
       "      <td id=\"T_1b3fa_row0_col31\" class=\"data row0 col31\" >Typ</td>\n",
       "      <td id=\"T_1b3fa_row0_col32\" class=\"data row0 col32\" >nan</td>\n",
       "      <td id=\"T_1b3fa_row0_col33\" class=\"data row0 col33\" >Detchd</td>\n",
       "      <td id=\"T_1b3fa_row0_col34\" class=\"data row0 col34\" >Unf</td>\n",
       "      <td id=\"T_1b3fa_row0_col35\" class=\"data row0 col35\" >TA</td>\n",
       "      <td id=\"T_1b3fa_row0_col36\" class=\"data row0 col36\" >TA</td>\n",
       "      <td id=\"T_1b3fa_row0_col37\" class=\"data row0 col37\" >Y</td>\n",
       "      <td id=\"T_1b3fa_row0_col38\" class=\"data row0 col38\" >nan</td>\n",
       "      <td id=\"T_1b3fa_row0_col39\" class=\"data row0 col39\" >MnPrv</td>\n",
       "      <td id=\"T_1b3fa_row0_col40\" class=\"data row0 col40\" >nan</td>\n",
       "      <td id=\"T_1b3fa_row0_col41\" class=\"data row0 col41\" >WD</td>\n",
       "      <td id=\"T_1b3fa_row0_col42\" class=\"data row0 col42\" >Abnorml</td>\n",
       "    </tr>\n",
       "    <tr>\n",
       "      <th id=\"T_1b3fa_level0_row1\" class=\"row_heading level0 row1\" >592</th>\n",
       "      <td id=\"T_1b3fa_row1_col0\" class=\"data row1 col0\" >RL</td>\n",
       "      <td id=\"T_1b3fa_row1_col1\" class=\"data row1 col1\" >Pave</td>\n",
       "      <td id=\"T_1b3fa_row1_col2\" class=\"data row1 col2\" >nan</td>\n",
       "      <td id=\"T_1b3fa_row1_col3\" class=\"data row1 col3\" >IR1</td>\n",
       "      <td id=\"T_1b3fa_row1_col4\" class=\"data row1 col4\" >Lvl</td>\n",
       "      <td id=\"T_1b3fa_row1_col5\" class=\"data row1 col5\" >AllPub</td>\n",
       "      <td id=\"T_1b3fa_row1_col6\" class=\"data row1 col6\" >Corner</td>\n",
       "      <td id=\"T_1b3fa_row1_col7\" class=\"data row1 col7\" >Gtl</td>\n",
       "      <td id=\"T_1b3fa_row1_col8\" class=\"data row1 col8\" >NridgHt</td>\n",
       "      <td id=\"T_1b3fa_row1_col9\" class=\"data row1 col9\" >Norm</td>\n",
       "      <td id=\"T_1b3fa_row1_col10\" class=\"data row1 col10\" >Norm</td>\n",
       "      <td id=\"T_1b3fa_row1_col11\" class=\"data row1 col11\" >1Fam</td>\n",
       "      <td id=\"T_1b3fa_row1_col12\" class=\"data row1 col12\" >2Story</td>\n",
       "      <td id=\"T_1b3fa_row1_col13\" class=\"data row1 col13\" >Gable</td>\n",
       "      <td id=\"T_1b3fa_row1_col14\" class=\"data row1 col14\" >CompShg</td>\n",
       "      <td id=\"T_1b3fa_row1_col15\" class=\"data row1 col15\" >CemntBd</td>\n",
       "      <td id=\"T_1b3fa_row1_col16\" class=\"data row1 col16\" >CmentBd</td>\n",
       "      <td id=\"T_1b3fa_row1_col17\" class=\"data row1 col17\" >Stone</td>\n",
       "      <td id=\"T_1b3fa_row1_col18\" class=\"data row1 col18\" >Ex</td>\n",
       "      <td id=\"T_1b3fa_row1_col19\" class=\"data row1 col19\" >TA</td>\n",
       "      <td id=\"T_1b3fa_row1_col20\" class=\"data row1 col20\" >PConc</td>\n",
       "      <td id=\"T_1b3fa_row1_col21\" class=\"data row1 col21\" >Ex</td>\n",
       "      <td id=\"T_1b3fa_row1_col22\" class=\"data row1 col22\" >TA</td>\n",
       "      <td id=\"T_1b3fa_row1_col23\" class=\"data row1 col23\" >Gd</td>\n",
       "      <td id=\"T_1b3fa_row1_col24\" class=\"data row1 col24\" >GLQ</td>\n",
       "      <td id=\"T_1b3fa_row1_col25\" class=\"data row1 col25\" >Unf</td>\n",
       "      <td id=\"T_1b3fa_row1_col26\" class=\"data row1 col26\" >GasA</td>\n",
       "      <td id=\"T_1b3fa_row1_col27\" class=\"data row1 col27\" >Ex</td>\n",
       "      <td id=\"T_1b3fa_row1_col28\" class=\"data row1 col28\" >Y</td>\n",
       "      <td id=\"T_1b3fa_row1_col29\" class=\"data row1 col29\" >SBrkr</td>\n",
       "      <td id=\"T_1b3fa_row1_col30\" class=\"data row1 col30\" >Ex</td>\n",
       "      <td id=\"T_1b3fa_row1_col31\" class=\"data row1 col31\" >Typ</td>\n",
       "      <td id=\"T_1b3fa_row1_col32\" class=\"data row1 col32\" >Gd</td>\n",
       "      <td id=\"T_1b3fa_row1_col33\" class=\"data row1 col33\" >BuiltIn</td>\n",
       "      <td id=\"T_1b3fa_row1_col34\" class=\"data row1 col34\" >RFn</td>\n",
       "      <td id=\"T_1b3fa_row1_col35\" class=\"data row1 col35\" >TA</td>\n",
       "      <td id=\"T_1b3fa_row1_col36\" class=\"data row1 col36\" >TA</td>\n",
       "      <td id=\"T_1b3fa_row1_col37\" class=\"data row1 col37\" >Y</td>\n",
       "      <td id=\"T_1b3fa_row1_col38\" class=\"data row1 col38\" >nan</td>\n",
       "      <td id=\"T_1b3fa_row1_col39\" class=\"data row1 col39\" >nan</td>\n",
       "      <td id=\"T_1b3fa_row1_col40\" class=\"data row1 col40\" >nan</td>\n",
       "      <td id=\"T_1b3fa_row1_col41\" class=\"data row1 col41\" >ConLI</td>\n",
       "      <td id=\"T_1b3fa_row1_col42\" class=\"data row1 col42\" >Normal</td>\n",
       "    </tr>\n",
       "    <tr>\n",
       "      <th id=\"T_1b3fa_level0_row2\" class=\"row_heading level0 row2\" >1161</th>\n",
       "      <td id=\"T_1b3fa_row2_col0\" class=\"data row2 col0\" >RL</td>\n",
       "      <td id=\"T_1b3fa_row2_col1\" class=\"data row2 col1\" >Pave</td>\n",
       "      <td id=\"T_1b3fa_row2_col2\" class=\"data row2 col2\" >nan</td>\n",
       "      <td id=\"T_1b3fa_row2_col3\" class=\"data row2 col3\" >Reg</td>\n",
       "      <td id=\"T_1b3fa_row2_col4\" class=\"data row2 col4\" >Lvl</td>\n",
       "      <td id=\"T_1b3fa_row2_col5\" class=\"data row2 col5\" >AllPub</td>\n",
       "      <td id=\"T_1b3fa_row2_col6\" class=\"data row2 col6\" >Inside</td>\n",
       "      <td id=\"T_1b3fa_row2_col7\" class=\"data row2 col7\" >Gtl</td>\n",
       "      <td id=\"T_1b3fa_row2_col8\" class=\"data row2 col8\" >NPkVill</td>\n",
       "      <td id=\"T_1b3fa_row2_col9\" class=\"data row2 col9\" >Norm</td>\n",
       "      <td id=\"T_1b3fa_row2_col10\" class=\"data row2 col10\" >Norm</td>\n",
       "      <td id=\"T_1b3fa_row2_col11\" class=\"data row2 col11\" >Twnhs</td>\n",
       "      <td id=\"T_1b3fa_row2_col12\" class=\"data row2 col12\" >2Story</td>\n",
       "      <td id=\"T_1b3fa_row2_col13\" class=\"data row2 col13\" >Gable</td>\n",
       "      <td id=\"T_1b3fa_row2_col14\" class=\"data row2 col14\" >CompShg</td>\n",
       "      <td id=\"T_1b3fa_row2_col15\" class=\"data row2 col15\" >Plywood</td>\n",
       "      <td id=\"T_1b3fa_row2_col16\" class=\"data row2 col16\" >Brk Cmn</td>\n",
       "      <td id=\"T_1b3fa_row2_col17\" class=\"data row2 col17\" >None</td>\n",
       "      <td id=\"T_1b3fa_row2_col18\" class=\"data row2 col18\" >TA</td>\n",
       "      <td id=\"T_1b3fa_row2_col19\" class=\"data row2 col19\" >TA</td>\n",
       "      <td id=\"T_1b3fa_row2_col20\" class=\"data row2 col20\" >CBlock</td>\n",
       "      <td id=\"T_1b3fa_row2_col21\" class=\"data row2 col21\" >Gd</td>\n",
       "      <td id=\"T_1b3fa_row2_col22\" class=\"data row2 col22\" >TA</td>\n",
       "      <td id=\"T_1b3fa_row2_col23\" class=\"data row2 col23\" >No</td>\n",
       "      <td id=\"T_1b3fa_row2_col24\" class=\"data row2 col24\" >ALQ</td>\n",
       "      <td id=\"T_1b3fa_row2_col25\" class=\"data row2 col25\" >Unf</td>\n",
       "      <td id=\"T_1b3fa_row2_col26\" class=\"data row2 col26\" >GasA</td>\n",
       "      <td id=\"T_1b3fa_row2_col27\" class=\"data row2 col27\" >Fa</td>\n",
       "      <td id=\"T_1b3fa_row2_col28\" class=\"data row2 col28\" >Y</td>\n",
       "      <td id=\"T_1b3fa_row2_col29\" class=\"data row2 col29\" >SBrkr</td>\n",
       "      <td id=\"T_1b3fa_row2_col30\" class=\"data row2 col30\" >TA</td>\n",
       "      <td id=\"T_1b3fa_row2_col31\" class=\"data row2 col31\" >Typ</td>\n",
       "      <td id=\"T_1b3fa_row2_col32\" class=\"data row2 col32\" >TA</td>\n",
       "      <td id=\"T_1b3fa_row2_col33\" class=\"data row2 col33\" >Attchd</td>\n",
       "      <td id=\"T_1b3fa_row2_col34\" class=\"data row2 col34\" >Unf</td>\n",
       "      <td id=\"T_1b3fa_row2_col35\" class=\"data row2 col35\" >TA</td>\n",
       "      <td id=\"T_1b3fa_row2_col36\" class=\"data row2 col36\" >TA</td>\n",
       "      <td id=\"T_1b3fa_row2_col37\" class=\"data row2 col37\" >Y</td>\n",
       "      <td id=\"T_1b3fa_row2_col38\" class=\"data row2 col38\" >nan</td>\n",
       "      <td id=\"T_1b3fa_row2_col39\" class=\"data row2 col39\" >nan</td>\n",
       "      <td id=\"T_1b3fa_row2_col40\" class=\"data row2 col40\" >nan</td>\n",
       "      <td id=\"T_1b3fa_row2_col41\" class=\"data row2 col41\" >WD</td>\n",
       "      <td id=\"T_1b3fa_row2_col42\" class=\"data row2 col42\" >Normal</td>\n",
       "    </tr>\n",
       "    <tr>\n",
       "      <th id=\"T_1b3fa_level0_row3\" class=\"row_heading level0 row3\" >664</th>\n",
       "      <td id=\"T_1b3fa_row3_col0\" class=\"data row3 col0\" >RL</td>\n",
       "      <td id=\"T_1b3fa_row3_col1\" class=\"data row3 col1\" >Pave</td>\n",
       "      <td id=\"T_1b3fa_row3_col2\" class=\"data row3 col2\" >nan</td>\n",
       "      <td id=\"T_1b3fa_row3_col3\" class=\"data row3 col3\" >Reg</td>\n",
       "      <td id=\"T_1b3fa_row3_col4\" class=\"data row3 col4\" >Lvl</td>\n",
       "      <td id=\"T_1b3fa_row3_col5\" class=\"data row3 col5\" >AllPub</td>\n",
       "      <td id=\"T_1b3fa_row3_col6\" class=\"data row3 col6\" >Inside</td>\n",
       "      <td id=\"T_1b3fa_row3_col7\" class=\"data row3 col7\" >Gtl</td>\n",
       "      <td id=\"T_1b3fa_row3_col8\" class=\"data row3 col8\" >Edwards</td>\n",
       "      <td id=\"T_1b3fa_row3_col9\" class=\"data row3 col9\" >Norm</td>\n",
       "      <td id=\"T_1b3fa_row3_col10\" class=\"data row3 col10\" >Norm</td>\n",
       "      <td id=\"T_1b3fa_row3_col11\" class=\"data row3 col11\" >1Fam</td>\n",
       "      <td id=\"T_1b3fa_row3_col12\" class=\"data row3 col12\" >SFoyer</td>\n",
       "      <td id=\"T_1b3fa_row3_col13\" class=\"data row3 col13\" >Gable</td>\n",
       "      <td id=\"T_1b3fa_row3_col14\" class=\"data row3 col14\" >CompShg</td>\n",
       "      <td id=\"T_1b3fa_row3_col15\" class=\"data row3 col15\" >Plywood</td>\n",
       "      <td id=\"T_1b3fa_row3_col16\" class=\"data row3 col16\" >Plywood</td>\n",
       "      <td id=\"T_1b3fa_row3_col17\" class=\"data row3 col17\" >None</td>\n",
       "      <td id=\"T_1b3fa_row3_col18\" class=\"data row3 col18\" >TA</td>\n",
       "      <td id=\"T_1b3fa_row3_col19\" class=\"data row3 col19\" >TA</td>\n",
       "      <td id=\"T_1b3fa_row3_col20\" class=\"data row3 col20\" >CBlock</td>\n",
       "      <td id=\"T_1b3fa_row3_col21\" class=\"data row3 col21\" >Gd</td>\n",
       "      <td id=\"T_1b3fa_row3_col22\" class=\"data row3 col22\" >TA</td>\n",
       "      <td id=\"T_1b3fa_row3_col23\" class=\"data row3 col23\" >Av</td>\n",
       "      <td id=\"T_1b3fa_row3_col24\" class=\"data row3 col24\" >BLQ</td>\n",
       "      <td id=\"T_1b3fa_row3_col25\" class=\"data row3 col25\" >Rec</td>\n",
       "      <td id=\"T_1b3fa_row3_col26\" class=\"data row3 col26\" >GasA</td>\n",
       "      <td id=\"T_1b3fa_row3_col27\" class=\"data row3 col27\" >TA</td>\n",
       "      <td id=\"T_1b3fa_row3_col28\" class=\"data row3 col28\" >Y</td>\n",
       "      <td id=\"T_1b3fa_row3_col29\" class=\"data row3 col29\" >SBrkr</td>\n",
       "      <td id=\"T_1b3fa_row3_col30\" class=\"data row3 col30\" >TA</td>\n",
       "      <td id=\"T_1b3fa_row3_col31\" class=\"data row3 col31\" >Typ</td>\n",
       "      <td id=\"T_1b3fa_row3_col32\" class=\"data row3 col32\" >nan</td>\n",
       "      <td id=\"T_1b3fa_row3_col33\" class=\"data row3 col33\" >Detchd</td>\n",
       "      <td id=\"T_1b3fa_row3_col34\" class=\"data row3 col34\" >RFn</td>\n",
       "      <td id=\"T_1b3fa_row3_col35\" class=\"data row3 col35\" >TA</td>\n",
       "      <td id=\"T_1b3fa_row3_col36\" class=\"data row3 col36\" >TA</td>\n",
       "      <td id=\"T_1b3fa_row3_col37\" class=\"data row3 col37\" >Y</td>\n",
       "      <td id=\"T_1b3fa_row3_col38\" class=\"data row3 col38\" >nan</td>\n",
       "      <td id=\"T_1b3fa_row3_col39\" class=\"data row3 col39\" >MnPrv</td>\n",
       "      <td id=\"T_1b3fa_row3_col40\" class=\"data row3 col40\" >nan</td>\n",
       "      <td id=\"T_1b3fa_row3_col41\" class=\"data row3 col41\" >WD</td>\n",
       "      <td id=\"T_1b3fa_row3_col42\" class=\"data row3 col42\" >Normal</td>\n",
       "    </tr>\n",
       "    <tr>\n",
       "      <th id=\"T_1b3fa_level0_row4\" class=\"row_heading level0 row4\" >555</th>\n",
       "      <td id=\"T_1b3fa_row4_col0\" class=\"data row4 col0\" >RL</td>\n",
       "      <td id=\"T_1b3fa_row4_col1\" class=\"data row4 col1\" >Pave</td>\n",
       "      <td id=\"T_1b3fa_row4_col2\" class=\"data row4 col2\" >nan</td>\n",
       "      <td id=\"T_1b3fa_row4_col3\" class=\"data row4 col3\" >Reg</td>\n",
       "      <td id=\"T_1b3fa_row4_col4\" class=\"data row4 col4\" >Lvl</td>\n",
       "      <td id=\"T_1b3fa_row4_col5\" class=\"data row4 col5\" >AllPub</td>\n",
       "      <td id=\"T_1b3fa_row4_col6\" class=\"data row4 col6\" >Inside</td>\n",
       "      <td id=\"T_1b3fa_row4_col7\" class=\"data row4 col7\" >Gtl</td>\n",
       "      <td id=\"T_1b3fa_row4_col8\" class=\"data row4 col8\" >NridgHt</td>\n",
       "      <td id=\"T_1b3fa_row4_col9\" class=\"data row4 col9\" >Norm</td>\n",
       "      <td id=\"T_1b3fa_row4_col10\" class=\"data row4 col10\" >Norm</td>\n",
       "      <td id=\"T_1b3fa_row4_col11\" class=\"data row4 col11\" >1Fam</td>\n",
       "      <td id=\"T_1b3fa_row4_col12\" class=\"data row4 col12\" >2Story</td>\n",
       "      <td id=\"T_1b3fa_row4_col13\" class=\"data row4 col13\" >Gable</td>\n",
       "      <td id=\"T_1b3fa_row4_col14\" class=\"data row4 col14\" >CompShg</td>\n",
       "      <td id=\"T_1b3fa_row4_col15\" class=\"data row4 col15\" >VinylSd</td>\n",
       "      <td id=\"T_1b3fa_row4_col16\" class=\"data row4 col16\" >VinylSd</td>\n",
       "      <td id=\"T_1b3fa_row4_col17\" class=\"data row4 col17\" >BrkFace</td>\n",
       "      <td id=\"T_1b3fa_row4_col18\" class=\"data row4 col18\" >Gd</td>\n",
       "      <td id=\"T_1b3fa_row4_col19\" class=\"data row4 col19\" >TA</td>\n",
       "      <td id=\"T_1b3fa_row4_col20\" class=\"data row4 col20\" >PConc</td>\n",
       "      <td id=\"T_1b3fa_row4_col21\" class=\"data row4 col21\" >Gd</td>\n",
       "      <td id=\"T_1b3fa_row4_col22\" class=\"data row4 col22\" >TA</td>\n",
       "      <td id=\"T_1b3fa_row4_col23\" class=\"data row4 col23\" >No</td>\n",
       "      <td id=\"T_1b3fa_row4_col24\" class=\"data row4 col24\" >GLQ</td>\n",
       "      <td id=\"T_1b3fa_row4_col25\" class=\"data row4 col25\" >Unf</td>\n",
       "      <td id=\"T_1b3fa_row4_col26\" class=\"data row4 col26\" >GasA</td>\n",
       "      <td id=\"T_1b3fa_row4_col27\" class=\"data row4 col27\" >Ex</td>\n",
       "      <td id=\"T_1b3fa_row4_col28\" class=\"data row4 col28\" >Y</td>\n",
       "      <td id=\"T_1b3fa_row4_col29\" class=\"data row4 col29\" >SBrkr</td>\n",
       "      <td id=\"T_1b3fa_row4_col30\" class=\"data row4 col30\" >Gd</td>\n",
       "      <td id=\"T_1b3fa_row4_col31\" class=\"data row4 col31\" >Typ</td>\n",
       "      <td id=\"T_1b3fa_row4_col32\" class=\"data row4 col32\" >Gd</td>\n",
       "      <td id=\"T_1b3fa_row4_col33\" class=\"data row4 col33\" >BuiltIn</td>\n",
       "      <td id=\"T_1b3fa_row4_col34\" class=\"data row4 col34\" >RFn</td>\n",
       "      <td id=\"T_1b3fa_row4_col35\" class=\"data row4 col35\" >TA</td>\n",
       "      <td id=\"T_1b3fa_row4_col36\" class=\"data row4 col36\" >TA</td>\n",
       "      <td id=\"T_1b3fa_row4_col37\" class=\"data row4 col37\" >Y</td>\n",
       "      <td id=\"T_1b3fa_row4_col38\" class=\"data row4 col38\" >nan</td>\n",
       "      <td id=\"T_1b3fa_row4_col39\" class=\"data row4 col39\" >nan</td>\n",
       "      <td id=\"T_1b3fa_row4_col40\" class=\"data row4 col40\" >nan</td>\n",
       "      <td id=\"T_1b3fa_row4_col41\" class=\"data row4 col41\" >WD</td>\n",
       "      <td id=\"T_1b3fa_row4_col42\" class=\"data row4 col42\" >Normal</td>\n",
       "    </tr>\n",
       "  </tbody>\n",
       "</table>\n"
      ],
      "text/plain": [
       "<pandas.io.formats.style.Styler at 0x21dc9741508>"
      ]
     },
     "execution_count": 22,
     "metadata": {},
     "output_type": "execute_result"
    }
   ],
   "source": [
    "#In the dataframe train, select the qualitative ones, and select a sample of 5 random rows and check which columns they have\n",
    "train[qualitative].sample(5).style"
   ]
  },
  {
   "cell_type": "markdown",
   "metadata": {
    "nteract": {
     "transient": {
      "deleting": false
     }
    }
   },
   "source": [
    "### 1e. Plot number of missing data for all columns"
   ]
  },
  {
   "cell_type": "code",
   "execution_count": 23,
   "metadata": {
    "gather": {
     "logged": 1665932234934
    },
    "jupyter": {
     "outputs_hidden": false,
     "source_hidden": false
    },
    "nteract": {
     "transient": {
      "deleting": false
     }
    },
    "scrolled": true,
    "tags": []
   },
   "outputs": [
    {
     "name": "stdout",
     "output_type": "stream",
     "text": [
      "80\n"
     ]
    },
    {
     "data": {
      "text/plain": [
       "<BarContainer object of 80 artists>"
      ]
     },
     "execution_count": 23,
     "metadata": {},
     "output_type": "execute_result"
    },
    {
     "data": {
      "image/png": "[encoded data removed]",
      "text/plain": [
       "<Figure size 432x288 with 1 Axes>"
      ]
     },
     "metadata": {
      "needs_background": "light"
     },
     "output_type": "display_data"
    }
   ],
   "source": [
    "vect_sums = train.isnull().sum() #indexing <-----\n",
    "print(len(vect_sums))\n",
    "plt.bar(train.columns, train.isnull().sum())          "
   ]
  },
  {
   "cell_type": "markdown",
   "metadata": {},
   "source": [
    "### For the better visiability drop columns with no missing data"
   ]
  },
  {
   "cell_type": "code",
   "execution_count": 25,
   "metadata": {},
   "outputs": [
    {
     "data": {
      "text/plain": [
       "<matplotlib.axes._subplots.AxesSubplot at 0x21dc9b41cc8>"
      ]
     },
     "execution_count": 25,
     "metadata": {},
     "output_type": "execute_result"
    },
    {
     "data": {
      "image/png": "[encoded data removed]",
      "text/plain": [
       "<Figure size 1080x360 with 1 Axes>"
      ]
     },
     "metadata": {
      "needs_background": "light"
     },
     "output_type": "display_data"
    }
   ],
   "source": [
    "for i in range(len(train.columns)):\n",
    "    if i < len(vect_sums):  # Check if index is within bounds\n",
    "        if vect_sums[i] <= 0:  # Change the condition to drop if <= 0\n",
    "            vect_sums.drop(vect_sums.index[i], inplace=True)\n",
    "plt.bar(vect_sums.index, vect_sums)   \n",
    "\n",
    "train.isna().sum().sort_values(ascending=False).plot.bar(figsize=(15, 5))"
   ]
  },
  {
   "cell_type": "code",
   "execution_count": 28,
   "metadata": {
    "tags": []
   },
   "outputs": [
    {
     "data": {
      "text/plain": [
       "<BarContainer object of 19 artists>"
      ]
     },
     "execution_count": 28,
     "metadata": {},
     "output_type": "execute_result"
    },
    {
     "data": {
      "image/png": "[encoded data removed]",
      "text/plain": [
       "<Figure size 432x288 with 1 Axes>"
      ]
     },
     "metadata": {
      "needs_background": "light"
     },
     "output_type": "display_data"
    }
   ],
   "source": [
    "for i in range(len(train.columns)):\n",
    "    if i < len(vect_sums):  # Check if index is within bounds\n",
    "        if vect_sums[i] <= 0:  # Change the condition to drop if <= 0\n",
    "            vect_sums.drop(vect_sums.index[i], inplace=True)\n",
    "plt.bar(vect_sums.sort_values(ascending = True).index, vect_sums)"
   ]
  },
  {
   "cell_type": "markdown",
   "metadata": {
    "tags": []
   },
   "source": [
    "## Task 2: Aggregation"
   ]
  },
  {
   "cell_type": "markdown",
   "metadata": {},
   "source": [
    "### 2.1 Calculate the average LotArea for each year (YrSold)"
   ]
  },
  {
   "cell_type": "code",
   "execution_count": null,
   "metadata": {
    "tags": []
   },
   "outputs": [],
   "source": [
    "# YrSold in parentheses, so we want to make that the index and group it according to YrSold"
   ]
  },
  {
   "cell_type": "code",
   "execution_count": 31,
   "metadata": {
    "tags": []
   },
   "outputs": [
    {
     "data": {
      "text/html": [
       "<div>\n",
       "<style scoped>\n",
       "    .dataframe tbody tr th:only-of-type {\n",
       "        vertical-align: middle;\n",
       "    }\n",
       "\n",
       "    .dataframe tbody tr th {\n",
       "        vertical-align: top;\n",
       "    }\n",
       "\n",
       "    .dataframe thead th {\n",
       "        text-align: right;\n",
       "    }\n",
       "</style>\n",
       "<table border=\"1\" class=\"dataframe\">\n",
       "  <thead>\n",
       "    <tr style=\"text-align: right;\">\n",
       "      <th></th>\n",
       "      <th>MSSubClass</th>\n",
       "      <th>MSZoning</th>\n",
       "      <th>LotFrontage</th>\n",
       "      <th>LotArea</th>\n",
       "      <th>Street</th>\n",
       "      <th>Alley</th>\n",
       "      <th>LotShape</th>\n",
       "      <th>LandContour</th>\n",
       "      <th>Utilities</th>\n",
       "      <th>LotConfig</th>\n",
       "      <th>...</th>\n",
       "      <th>ScreenPorch</th>\n",
       "      <th>PoolArea</th>\n",
       "      <th>PoolQC</th>\n",
       "      <th>Fence</th>\n",
       "      <th>MiscFeature</th>\n",
       "      <th>MiscVal</th>\n",
       "      <th>MoSold</th>\n",
       "      <th>SaleType</th>\n",
       "      <th>SaleCondition</th>\n",
       "      <th>SalePrice</th>\n",
       "    </tr>\n",
       "    <tr>\n",
       "      <th>YrSold</th>\n",
       "      <th></th>\n",
       "      <th></th>\n",
       "      <th></th>\n",
       "      <th></th>\n",
       "      <th></th>\n",
       "      <th></th>\n",
       "      <th></th>\n",
       "      <th></th>\n",
       "      <th></th>\n",
       "      <th></th>\n",
       "      <th></th>\n",
       "      <th></th>\n",
       "      <th></th>\n",
       "      <th></th>\n",
       "      <th></th>\n",
       "      <th></th>\n",
       "      <th></th>\n",
       "      <th></th>\n",
       "      <th></th>\n",
       "      <th></th>\n",
       "      <th></th>\n",
       "    </tr>\n",
       "  </thead>\n",
       "  <tbody>\n",
       "    <tr>\n",
       "      <th>2006</th>\n",
       "      <td>70</td>\n",
       "      <td>RL</td>\n",
       "      <td>60.0</td>\n",
       "      <td>9550</td>\n",
       "      <td>Pave</td>\n",
       "      <td>Grvl</td>\n",
       "      <td>IR1</td>\n",
       "      <td>Lvl</td>\n",
       "      <td>AllPub</td>\n",
       "      <td>Corner</td>\n",
       "      <td>...</td>\n",
       "      <td>0</td>\n",
       "      <td>0</td>\n",
       "      <td>Ex</td>\n",
       "      <td>GdWo</td>\n",
       "      <td>Shed</td>\n",
       "      <td>0</td>\n",
       "      <td>2</td>\n",
       "      <td>WD</td>\n",
       "      <td>Abnorml</td>\n",
       "      <td>140000</td>\n",
       "    </tr>\n",
       "    <tr>\n",
       "      <th>2007</th>\n",
       "      <td>20</td>\n",
       "      <td>RL</td>\n",
       "      <td>80.0</td>\n",
       "      <td>9600</td>\n",
       "      <td>Pave</td>\n",
       "      <td>Grvl</td>\n",
       "      <td>Reg</td>\n",
       "      <td>Lvl</td>\n",
       "      <td>AllPub</td>\n",
       "      <td>FR2</td>\n",
       "      <td>...</td>\n",
       "      <td>0</td>\n",
       "      <td>0</td>\n",
       "      <td>Ex</td>\n",
       "      <td>GdPrv</td>\n",
       "      <td>Shed</td>\n",
       "      <td>0</td>\n",
       "      <td>5</td>\n",
       "      <td>WD</td>\n",
       "      <td>Normal</td>\n",
       "      <td>181500</td>\n",
       "    </tr>\n",
       "    <tr>\n",
       "      <th>2008</th>\n",
       "      <td>60</td>\n",
       "      <td>RL</td>\n",
       "      <td>65.0</td>\n",
       "      <td>8450</td>\n",
       "      <td>Pave</td>\n",
       "      <td>Pave</td>\n",
       "      <td>Reg</td>\n",
       "      <td>Lvl</td>\n",
       "      <td>AllPub</td>\n",
       "      <td>Inside</td>\n",
       "      <td>...</td>\n",
       "      <td>0</td>\n",
       "      <td>0</td>\n",
       "      <td>Gd</td>\n",
       "      <td>GdWo</td>\n",
       "      <td>Shed</td>\n",
       "      <td>0</td>\n",
       "      <td>2</td>\n",
       "      <td>WD</td>\n",
       "      <td>Normal</td>\n",
       "      <td>208500</td>\n",
       "    </tr>\n",
       "    <tr>\n",
       "      <th>2009</th>\n",
       "      <td>50</td>\n",
       "      <td>RL</td>\n",
       "      <td>85.0</td>\n",
       "      <td>14115</td>\n",
       "      <td>Pave</td>\n",
       "      <td>Pave</td>\n",
       "      <td>IR1</td>\n",
       "      <td>Lvl</td>\n",
       "      <td>AllPub</td>\n",
       "      <td>Inside</td>\n",
       "      <td>...</td>\n",
       "      <td>0</td>\n",
       "      <td>0</td>\n",
       "      <td>None</td>\n",
       "      <td>MnPrv</td>\n",
       "      <td>Shed</td>\n",
       "      <td>700</td>\n",
       "      <td>10</td>\n",
       "      <td>WD</td>\n",
       "      <td>Normal</td>\n",
       "      <td>143000</td>\n",
       "    </tr>\n",
       "    <tr>\n",
       "      <th>2010</th>\n",
       "      <td>20</td>\n",
       "      <td>RL</td>\n",
       "      <td>60.0</td>\n",
       "      <td>11241</td>\n",
       "      <td>Pave</td>\n",
       "      <td>Pave</td>\n",
       "      <td>IR1</td>\n",
       "      <td>Lvl</td>\n",
       "      <td>AllPub</td>\n",
       "      <td>CulDSac</td>\n",
       "      <td>...</td>\n",
       "      <td>0</td>\n",
       "      <td>0</td>\n",
       "      <td>None</td>\n",
       "      <td>MnPrv</td>\n",
       "      <td>Shed</td>\n",
       "      <td>700</td>\n",
       "      <td>3</td>\n",
       "      <td>WD</td>\n",
       "      <td>Normal</td>\n",
       "      <td>149000</td>\n",
       "    </tr>\n",
       "  </tbody>\n",
       "</table>\n",
       "<p>5 rows × 79 columns</p>\n",
       "</div>"
      ],
      "text/plain": [
       "        MSSubClass MSZoning  LotFrontage  LotArea Street Alley LotShape  \\\n",
       "YrSold                                                                    \n",
       "2006            70       RL         60.0     9550   Pave  Grvl      IR1   \n",
       "2007            20       RL         80.0     9600   Pave  Grvl      Reg   \n",
       "2008            60       RL         65.0     8450   Pave  Pave      Reg   \n",
       "2009            50       RL         85.0    14115   Pave  Pave      IR1   \n",
       "2010            20       RL         60.0    11241   Pave  Pave      IR1   \n",
       "\n",
       "       LandContour Utilities LotConfig  ... ScreenPorch PoolArea PoolQC  \\\n",
       "YrSold                                  ...                               \n",
       "2006           Lvl    AllPub    Corner  ...           0        0     Ex   \n",
       "2007           Lvl    AllPub       FR2  ...           0        0     Ex   \n",
       "2008           Lvl    AllPub    Inside  ...           0        0     Gd   \n",
       "2009           Lvl    AllPub    Inside  ...           0        0   None   \n",
       "2010           Lvl    AllPub   CulDSac  ...           0        0   None   \n",
       "\n",
       "        Fence MiscFeature MiscVal  MoSold  SaleType  SaleCondition  SalePrice  \n",
       "YrSold                                                                         \n",
       "2006     GdWo        Shed       0       2        WD        Abnorml     140000  \n",
       "2007    GdPrv        Shed       0       5        WD         Normal     181500  \n",
       "2008     GdWo        Shed       0       2        WD         Normal     208500  \n",
       "2009    MnPrv        Shed     700      10        WD         Normal     143000  \n",
       "2010    MnPrv        Shed     700       3        WD         Normal     149000  \n",
       "\n",
       "[5 rows x 79 columns]"
      ]
     },
     "execution_count": 31,
     "metadata": {},
     "output_type": "execute_result"
    }
   ],
   "source": [
    "train.groupby('YrSold').first()"
   ]
  },
  {
   "cell_type": "code",
   "execution_count": 33,
   "metadata": {
    "scrolled": true,
    "tags": []
   },
   "outputs": [
    {
     "data": {
      "text/html": [
       "<div>\n",
       "<style scoped>\n",
       "    .dataframe tbody tr th:only-of-type {\n",
       "        vertical-align: middle;\n",
       "    }\n",
       "\n",
       "    .dataframe tbody tr th {\n",
       "        vertical-align: top;\n",
       "    }\n",
       "\n",
       "    .dataframe thead th {\n",
       "        text-align: right;\n",
       "    }\n",
       "</style>\n",
       "<table border=\"1\" class=\"dataframe\">\n",
       "  <thead>\n",
       "    <tr style=\"text-align: right;\">\n",
       "      <th></th>\n",
       "      <th>LotArea</th>\n",
       "    </tr>\n",
       "    <tr>\n",
       "      <th>YrSold</th>\n",
       "      <th></th>\n",
       "    </tr>\n",
       "  </thead>\n",
       "  <tbody>\n",
       "    <tr>\n",
       "      <th>2006</th>\n",
       "      <td>10489.458599</td>\n",
       "    </tr>\n",
       "    <tr>\n",
       "      <th>2007</th>\n",
       "      <td>10863.686930</td>\n",
       "    </tr>\n",
       "    <tr>\n",
       "      <th>2008</th>\n",
       "      <td>10587.687500</td>\n",
       "    </tr>\n",
       "    <tr>\n",
       "      <th>2009</th>\n",
       "      <td>10294.248521</td>\n",
       "    </tr>\n",
       "    <tr>\n",
       "      <th>2010</th>\n",
       "      <td>10220.645714</td>\n",
       "    </tr>\n",
       "  </tbody>\n",
       "</table>\n",
       "</div>"
      ],
      "text/plain": [
       "             LotArea\n",
       "YrSold              \n",
       "2006    10489.458599\n",
       "2007    10863.686930\n",
       "2008    10587.687500\n",
       "2009    10294.248521\n",
       "2010    10220.645714"
      ]
     },
     "execution_count": 33,
     "metadata": {},
     "output_type": "execute_result"
    }
   ],
   "source": [
    "#in non-dataframe form\n",
    "train.groupby('YrSold')['LotArea'].mean()\n",
    "\n",
    "#in dataframe form\n",
    "train.groupby('YrSold')[['LotArea']].mean()\n"
   ]
  },
  {
   "cell_type": "code",
   "execution_count": null,
   "metadata": {},
   "outputs": [],
   "source": [
    "# mean, min, max"
   ]
  },
  {
   "cell_type": "code",
   "execution_count": 37,
   "metadata": {},
   "outputs": [
    {
     "data": {
      "text/html": [
       "<div>\n",
       "<style scoped>\n",
       "    .dataframe tbody tr th:only-of-type {\n",
       "        vertical-align: middle;\n",
       "    }\n",
       "\n",
       "    .dataframe tbody tr th {\n",
       "        vertical-align: top;\n",
       "    }\n",
       "\n",
       "    .dataframe thead tr th {\n",
       "        text-align: left;\n",
       "    }\n",
       "\n",
       "    .dataframe thead tr:last-of-type th {\n",
       "        text-align: right;\n",
       "    }\n",
       "</style>\n",
       "<table border=\"1\" class=\"dataframe\">\n",
       "  <thead>\n",
       "    <tr>\n",
       "      <th></th>\n",
       "      <th colspan=\"3\" halign=\"left\">LotArea</th>\n",
       "    </tr>\n",
       "    <tr>\n",
       "      <th></th>\n",
       "      <th>mean</th>\n",
       "      <th>min</th>\n",
       "      <th>max</th>\n",
       "    </tr>\n",
       "    <tr>\n",
       "      <th>YrSold</th>\n",
       "      <th></th>\n",
       "      <th></th>\n",
       "      <th></th>\n",
       "    </tr>\n",
       "  </thead>\n",
       "  <tbody>\n",
       "    <tr>\n",
       "      <th>2006</th>\n",
       "      <td>10489.458599</td>\n",
       "      <td>1533</td>\n",
       "      <td>70761</td>\n",
       "    </tr>\n",
       "    <tr>\n",
       "      <th>2007</th>\n",
       "      <td>10863.686930</td>\n",
       "      <td>1890</td>\n",
       "      <td>159000</td>\n",
       "    </tr>\n",
       "    <tr>\n",
       "      <th>2008</th>\n",
       "      <td>10587.687500</td>\n",
       "      <td>1680</td>\n",
       "      <td>164660</td>\n",
       "    </tr>\n",
       "    <tr>\n",
       "      <th>2009</th>\n",
       "      <td>10294.248521</td>\n",
       "      <td>1300</td>\n",
       "      <td>215245</td>\n",
       "    </tr>\n",
       "    <tr>\n",
       "      <th>2010</th>\n",
       "      <td>10220.645714</td>\n",
       "      <td>1491</td>\n",
       "      <td>57200</td>\n",
       "    </tr>\n",
       "  </tbody>\n",
       "</table>\n",
       "</div>"
      ],
      "text/plain": [
       "             LotArea              \n",
       "                mean   min     max\n",
       "YrSold                            \n",
       "2006    10489.458599  1533   70761\n",
       "2007    10863.686930  1890  159000\n",
       "2008    10587.687500  1680  164660\n",
       "2009    10294.248521  1300  215245\n",
       "2010    10220.645714  1491   57200"
      ]
     },
     "execution_count": 37,
     "metadata": {},
     "output_type": "execute_result"
    }
   ],
   "source": [
    "train.groupby('YrSold').agg({\"LotArea\": [\"mean\", \"min\", \"max\"]})"
   ]
  },
  {
   "cell_type": "markdown",
   "metadata": {},
   "source": [
    "### 2.2 Calculate the average SalePrice for each street (Street)"
   ]
  },
  {
   "cell_type": "code",
   "execution_count": 35,
   "metadata": {},
   "outputs": [
    {
     "data": {
      "text/html": [
       "<div>\n",
       "<style scoped>\n",
       "    .dataframe tbody tr th:only-of-type {\n",
       "        vertical-align: middle;\n",
       "    }\n",
       "\n",
       "    .dataframe tbody tr th {\n",
       "        vertical-align: top;\n",
       "    }\n",
       "\n",
       "    .dataframe thead th {\n",
       "        text-align: right;\n",
       "    }\n",
       "</style>\n",
       "<table border=\"1\" class=\"dataframe\">\n",
       "  <thead>\n",
       "    <tr style=\"text-align: right;\">\n",
       "      <th></th>\n",
       "      <th>SalePrice</th>\n",
       "    </tr>\n",
       "    <tr>\n",
       "      <th>Street</th>\n",
       "      <th></th>\n",
       "    </tr>\n",
       "  </thead>\n",
       "  <tbody>\n",
       "    <tr>\n",
       "      <th>Grvl</th>\n",
       "      <td>130190.500000</td>\n",
       "    </tr>\n",
       "    <tr>\n",
       "      <th>Pave</th>\n",
       "      <td>181130.538514</td>\n",
       "    </tr>\n",
       "  </tbody>\n",
       "</table>\n",
       "</div>"
      ],
      "text/plain": [
       "            SalePrice\n",
       "Street               \n",
       "Grvl    130190.500000\n",
       "Pave    181130.538514"
      ]
     },
     "execution_count": 35,
     "metadata": {},
     "output_type": "execute_result"
    }
   ],
   "source": [
    "train.groupby('Street')[['SalePrice']].mean()"
   ]
  },
  {
   "cell_type": "markdown",
   "metadata": {},
   "source": [
    "### 2.2 Calculate the average SalePrice for Grvl street (Street)"
   ]
  },
  {
   "cell_type": "code",
   "execution_count": 38,
   "metadata": {
    "tags": []
   },
   "outputs": [
    {
     "data": {
      "text/plain": [
       "130190.5"
      ]
     },
     "execution_count": 38,
     "metadata": {},
     "output_type": "execute_result"
    }
   ],
   "source": [
    "#Dataframe, access the dataframe with conditions of the street, and make that about the sale price mean\n",
    "train[train['Street'] == 'Grvl']['SalePrice'].mean()"
   ]
  },
  {
   "cell_type": "code",
   "execution_count": null,
   "metadata": {
    "tags": []
   },
   "outputs": [],
   "source": []
  },
  {
   "cell_type": "markdown",
   "metadata": {
    "tags": []
   },
   "source": [
    "### 2.3 Calculate the average SalePrice for Grvl street (Street) But! Take into account only flats which cost more than 300000"
   ]
  },
  {
   "cell_type": "code",
   "execution_count": 43,
   "metadata": {
    "tags": []
   },
   "outputs": [
    {
     "data": {
      "text/html": [
       "<div>\n",
       "<style scoped>\n",
       "    .dataframe tbody tr th:only-of-type {\n",
       "        vertical-align: middle;\n",
       "    }\n",
       "\n",
       "    .dataframe tbody tr th {\n",
       "        vertical-align: top;\n",
       "    }\n",
       "\n",
       "    .dataframe thead th {\n",
       "        text-align: right;\n",
       "    }\n",
       "</style>\n",
       "<table border=\"1\" class=\"dataframe\">\n",
       "  <thead>\n",
       "    <tr style=\"text-align: right;\">\n",
       "      <th></th>\n",
       "      <th>SalePrice</th>\n",
       "    </tr>\n",
       "    <tr>\n",
       "      <th>Street</th>\n",
       "      <th></th>\n",
       "    </tr>\n",
       "  </thead>\n",
       "  <tbody>\n",
       "    <tr>\n",
       "      <th>Pave</th>\n",
       "      <td>375946.26087</td>\n",
       "    </tr>\n",
       "  </tbody>\n",
       "</table>\n",
       "</div>"
      ],
      "text/plain": [
       "           SalePrice\n",
       "Street              \n",
       "Pave    375946.26087"
      ]
     },
     "execution_count": 43,
     "metadata": {},
     "output_type": "execute_result"
    }
   ],
   "source": [
    "train_saleprice_greater = train[train['SalePrice'] > 300000]\n",
    "train_saleprice_greater.groupby('Street')[['SalePrice']].mean()"
   ]
  },
  {
   "cell_type": "markdown",
   "metadata": {},
   "source": [
    "## Task 3 Filtering"
   ]
  },
  {
   "cell_type": "markdown",
   "metadata": {},
   "source": [
    "### 3.1 How many flats cost less than 200000 and have a 'Normal' condition (column SaleCondition)"
   ]
  },
  {
   "cell_type": "code",
   "execution_count": 49,
   "metadata": {
    "tags": []
   },
   "outputs": [
    {
     "data": {
      "text/plain": [
       "872"
      ]
     },
     "execution_count": 49,
     "metadata": {},
     "output_type": "execute_result"
    }
   ],
   "source": [
    "train_saleprice_less = train[train['SalePrice'] < 200000]\n",
    "train_normal_cond = train_saleprice_less[train_saleprice_less['SaleCondition'] == 'Normal']\n",
    "#shape or len() before the text (len(df[(df['SalePrice'] < 200000) & (df['SaleCondition'] == 'Normal')]))\n",
    "train_normal_cond.shape[0]"
   ]
  },
  {
   "cell_type": "markdown",
   "metadata": {
    "tags": []
   },
   "source": [
    "### 3.2 How many flats cost less than 200000 or have a 'Normal' condition (column SaleCondition)"
   ]
  },
  {
   "cell_type": "code",
   "execution_count": 50,
   "metadata": {
    "tags": []
   },
   "outputs": [
    {
     "data": {
      "text/plain": [
       "1351"
      ]
     },
     "execution_count": 50,
     "metadata": {},
     "output_type": "execute_result"
    }
   ],
   "source": [
    "#reminder that the \"or\" condition uses one |\n",
    "train[(train['SalePrice'] < 200000) | (train['SaleCondition'] == 'Normal')].shape[0]"
   ]
  },
  {
   "cell_type": "markdown",
   "metadata": {},
   "source": [
    "### 3.3 How many flats cost have more areas on the second floor(2ndFlrSF) then on the first one(1stFlrSF)?"
   ]
  },
  {
   "cell_type": "code",
   "execution_count": 51,
   "metadata": {
    "tags": []
   },
   "outputs": [
    {
     "data": {
      "text/plain": [
       "135"
      ]
     },
     "execution_count": 51,
     "metadata": {},
     "output_type": "execute_result"
    }
   ],
   "source": [
    "train[(train['2ndFlrSF'] > train['1stFlrSF'])].shape[0]"
   ]
  },
  {
   "cell_type": "markdown",
   "metadata": {
    "tags": []
   },
   "source": [
    "### What is the average cost (in thousands) for such type of the flats?"
   ]
  },
  {
   "cell_type": "code",
   "execution_count": 52,
   "metadata": {
    "tags": []
   },
   "outputs": [],
   "source": [
    "train_2ndHigher = train[(train['2ndFlrSF'] > train['1stFlrSF'])]"
   ]
  },
  {
   "cell_type": "code",
   "execution_count": 55,
   "metadata": {
    "tags": []
   },
   "outputs": [
    {
     "data": {
      "text/plain": [
       "200493.6"
      ]
     },
     "execution_count": 55,
     "metadata": {},
     "output_type": "execute_result"
    }
   ],
   "source": [
    "train_2ndHigher['SalePrice'].mean() "
   ]
  },
  {
   "cell_type": "code",
   "execution_count": null,
   "metadata": {},
   "outputs": [],
   "source": []
  },
  {
   "cell_type": "code",
   "execution_count": null,
   "metadata": {},
   "outputs": [],
   "source": []
  },
  {
   "cell_type": "markdown",
   "metadata": {},
   "source": [
    "# BONUSES"
   ]
  },
  {
   "cell_type": "markdown",
   "metadata": {
    "nteract": {
     "transient": {
      "deleting": false
     }
    }
   },
   "source": [
    "## Task 1: Study relationships between variables\n",
    "\n",
    "### 1a. see correlation matrix"
   ]
  },
  {
   "cell_type": "code",
   "execution_count": null,
   "metadata": {
    "gather": {
     "logged": 1665932337283
    },
    "jupyter": {
     "outputs_hidden": false
    },
    "nteract": {
     "transient": {
      "deleting": false
     }
    },
    "tags": []
   },
   "outputs": [],
   "source": [
    "fig=plt.subplots(1,1,figsize=(15,12))\n",
    "sns.heatmap(df[quantitative].corr(),vmin=-1,cmap='coolwarm',annot=True,fmt='0.1f')"
   ]
  },
  {
   "cell_type": "markdown",
   "metadata": {
    "nteract": {
     "transient": {
      "deleting": false
     }
    }
   },
   "source": [
    "### 2b. Boxplots for categorical variables"
   ]
  },
  {
   "cell_type": "code",
   "execution_count": null,
   "metadata": {
    "gather": {
     "logged": 1665932338324
    },
    "jupyter": {
     "outputs_hidden": false
    },
    "nteract": {
     "transient": {
      "deleting": false
     }
    },
    "tags": []
   },
   "outputs": [],
   "source": [
    "sns.boxplot(data=df,x='MSZoning',y='SalePrice')"
   ]
  },
  {
   "cell_type": "markdown",
   "metadata": {
    "nteract": {
     "transient": {
      "deleting": false
     }
    }
   },
   "source": [
    "## Task 2: ANOVA disparity estimations \n",
    "\n",
    "### One-way ANOVA \n",
    "* Question: Do sale prices differ across categories of certain feature?\n",
    "* Test: Do price means across factors with a feature differ in their underlying distribution? \n",
    "* Are prices of houses with pool drawn from distribution with different mean than prices of house without a pool? \n",
    "\n",
    "* We will test this on all features and plot results\n",
    "\n",
    "### 2a. Function for estimating ANOVA for one feature\n",
    "* Your task is to complete a following snippet:\n",
    "\n",
    "\n",
    "```python\n",
    "\n",
    " def anova_feature(qualitative_series, quantitative_series):\n",
    "    '''\n",
    "    Performs One-way ANOVA testing whether all levels of `qualitative` series are drawn from distributions with equal means\n",
    "\n",
    "    Expects:\n",
    "    - 'qualitative_series': Series with categorical data delienating indivudal groups\n",
    "    - 'quantitative_series': Series with value data on which the distribution is tested\n",
    "    \n",
    "    Uses `scipy.stats.f_oneway` to deliver the test.\n",
    "\n",
    "    Returns pd.Series with `statistic`, `p_value` and `disparity` measure. `statistic` and `p_value` are calculated by `scipy.stats.f_oneway`. Disparity is calculated as 1/log(p_value).\n",
    "    '''\n",
    "    samples =  {\n",
    "        factor: quantitative_series.loc[qualitative_series.fillna('MISSING') == factor] for factor in qualitative_series.fillna('MISSING').unique()\n",
    "    }\n",
    "\n",
    "    anova_result =  stats.f_oneway(*samples.values())\n",
    "    \n",
    "    pass\n",
    "```"
   ]
  },
  {
   "cell_type": "code",
   "execution_count": 57,
   "metadata": {
    "gather": {
     "logged": 1665932355553
    },
    "jupyter": {
     "outputs_hidden": false
    },
    "nteract": {
     "transient": {
      "deleting": false
     }
    }
   },
   "outputs": [
    {
     "data": {
      "text/plain": [
       "statistic    8.467220e+01\n",
       "p_value      1.054025e-64\n",
       "disparity    1.473128e+02\n",
       "dtype: float64"
      ]
     },
     "execution_count": 57,
     "metadata": {},
     "output_type": "execute_result"
    }
   ],
   "source": [
    "def anova_feature(qualitative_series, quantitative_series):\n",
    "    '''\n",
    "    Performs One-way ANOVA testing whether `quantitative_series` across levels of `qualitative_series` are drawn from distributions with equal means\n",
    "\n",
    "    Expects:\n",
    "    - 'qualitative_series': Series with categorical data delienating indivudal groups\n",
    "    - 'quantitative_series': Series with value data on which the distribution is tested\n",
    "    \n",
    "\n",
    "    Returns Series with test statistic, p-value\n",
    "    '''\n",
    "    samples =  {\n",
    "        factor: quantitative_series.loc[qualitative_series.fillna('MISSING') == factor]for factor in qualitative_series.fillna('MISSING').unique()\n",
    "    }\n",
    "\n",
    "    statistic, pvalue =  stats.f_oneway(*samples.values())\n",
    "    \n",
    "    return pd.Series({\n",
    "        'statistic':statistic,\n",
    "        'p_value':pvalue,\n",
    "        'disparity': math.log(1./pvalue)\n",
    "    })\n",
    "\n",
    "anova_feature(train.MasVnrType, train.SalePrice)"
   ]
  },
  {
   "cell_type": "markdown",
   "metadata": {
    "nteract": {
     "transient": {
      "deleting": false
     }
    }
   },
   "source": [
    "### 2b. Generate dataframe with ANOVA test of all quantitative columns on `SalePrice` in the dataset"
   ]
  },
  {
   "cell_type": "code",
   "execution_count": 59,
   "metadata": {
    "gather": {
     "logged": 1665932371237
    },
    "jupyter": {
     "outputs_hidden": false
    },
    "nteract": {
     "transient": {
      "deleting": false
     }
    }
   },
   "outputs": [
    {
     "data": {
      "text/html": [
       "<div>\n",
       "<style scoped>\n",
       "    .dataframe tbody tr th:only-of-type {\n",
       "        vertical-align: middle;\n",
       "    }\n",
       "\n",
       "    .dataframe tbody tr th {\n",
       "        vertical-align: top;\n",
       "    }\n",
       "\n",
       "    .dataframe thead th {\n",
       "        text-align: right;\n",
       "    }\n",
       "</style>\n",
       "<table border=\"1\" class=\"dataframe\">\n",
       "  <thead>\n",
       "    <tr style=\"text-align: right;\">\n",
       "      <th></th>\n",
       "      <th>statistic</th>\n",
       "      <th>p_value</th>\n",
       "      <th>disparity</th>\n",
       "    </tr>\n",
       "  </thead>\n",
       "  <tbody>\n",
       "    <tr>\n",
       "      <th>MSZoning</th>\n",
       "      <td>43.840282</td>\n",
       "      <td>8.817634e-35</td>\n",
       "      <td>78.413725</td>\n",
       "    </tr>\n",
       "    <tr>\n",
       "      <th>Street</th>\n",
       "      <td>2.459290</td>\n",
       "      <td>1.170486e-01</td>\n",
       "      <td>2.145166</td>\n",
       "    </tr>\n",
       "    <tr>\n",
       "      <th>Alley</th>\n",
       "      <td>15.176614</td>\n",
       "      <td>2.996380e-07</td>\n",
       "      <td>15.020691</td>\n",
       "    </tr>\n",
       "    <tr>\n",
       "      <th>LotShape</th>\n",
       "      <td>40.132852</td>\n",
       "      <td>6.447524e-25</td>\n",
       "      <td>55.700931</td>\n",
       "    </tr>\n",
       "    <tr>\n",
       "      <th>LandContour</th>\n",
       "      <td>12.850188</td>\n",
       "      <td>2.742217e-08</td>\n",
       "      <td>17.411914</td>\n",
       "    </tr>\n",
       "    <tr>\n",
       "      <th>Utilities</th>\n",
       "      <td>0.298804</td>\n",
       "      <td>5.847168e-01</td>\n",
       "      <td>0.536628</td>\n",
       "    </tr>\n",
       "    <tr>\n",
       "      <th>LotConfig</th>\n",
       "      <td>7.809954</td>\n",
       "      <td>3.163167e-06</td>\n",
       "      <td>12.663937</td>\n",
       "    </tr>\n",
       "    <tr>\n",
       "      <th>LandSlope</th>\n",
       "      <td>1.958817</td>\n",
       "      <td>1.413964e-01</td>\n",
       "      <td>1.956188</td>\n",
       "    </tr>\n",
       "    <tr>\n",
       "      <th>Neighborhood</th>\n",
       "      <td>71.784865</td>\n",
       "      <td>1.558600e-225</td>\n",
       "      <td>517.637858</td>\n",
       "    </tr>\n",
       "    <tr>\n",
       "      <th>Condition1</th>\n",
       "      <td>6.118017</td>\n",
       "      <td>8.904549e-08</td>\n",
       "      <td>16.234118</td>\n",
       "    </tr>\n",
       "    <tr>\n",
       "      <th>Condition2</th>\n",
       "      <td>2.073899</td>\n",
       "      <td>4.342566e-02</td>\n",
       "      <td>3.136705</td>\n",
       "    </tr>\n",
       "    <tr>\n",
       "      <th>BldgType</th>\n",
       "      <td>13.011077</td>\n",
       "      <td>2.056736e-10</td>\n",
       "      <td>22.304730</td>\n",
       "    </tr>\n",
       "    <tr>\n",
       "      <th>HouseStyle</th>\n",
       "      <td>19.595001</td>\n",
       "      <td>3.376777e-25</td>\n",
       "      <td>56.347706</td>\n",
       "    </tr>\n",
       "    <tr>\n",
       "      <th>RoofStyle</th>\n",
       "      <td>17.805497</td>\n",
       "      <td>3.653523e-17</td>\n",
       "      <td>37.848255</td>\n",
       "    </tr>\n",
       "    <tr>\n",
       "      <th>RoofMatl</th>\n",
       "      <td>6.727305</td>\n",
       "      <td>7.231445e-08</td>\n",
       "      <td>16.442242</td>\n",
       "    </tr>\n",
       "    <tr>\n",
       "      <th>Exterior1st</th>\n",
       "      <td>18.611743</td>\n",
       "      <td>2.586089e-43</td>\n",
       "      <td>98.061012</td>\n",
       "    </tr>\n",
       "    <tr>\n",
       "      <th>Exterior2nd</th>\n",
       "      <td>17.500840</td>\n",
       "      <td>4.842186e-43</td>\n",
       "      <td>97.433793</td>\n",
       "    </tr>\n",
       "    <tr>\n",
       "      <th>MasVnrType</th>\n",
       "      <td>84.672201</td>\n",
       "      <td>1.054025e-64</td>\n",
       "      <td>147.312830</td>\n",
       "    </tr>\n",
       "    <tr>\n",
       "      <th>ExterQual</th>\n",
       "      <td>443.334831</td>\n",
       "      <td>1.439551e-204</td>\n",
       "      <td>469.363028</td>\n",
       "    </tr>\n",
       "    <tr>\n",
       "      <th>ExterCond</th>\n",
       "      <td>8.798714</td>\n",
       "      <td>5.106681e-07</td>\n",
       "      <td>14.487546</td>\n",
       "    </tr>\n",
       "    <tr>\n",
       "      <th>Foundation</th>\n",
       "      <td>100.253851</td>\n",
       "      <td>5.791895e-91</td>\n",
       "      <td>207.778784</td>\n",
       "    </tr>\n",
       "    <tr>\n",
       "      <th>BsmtQual</th>\n",
       "      <td>316.148635</td>\n",
       "      <td>8.158548e-196</td>\n",
       "      <td>449.207612</td>\n",
       "    </tr>\n",
       "    <tr>\n",
       "      <th>BsmtCond</th>\n",
       "      <td>19.708139</td>\n",
       "      <td>8.195794e-16</td>\n",
       "      <td>34.737740</td>\n",
       "    </tr>\n",
       "    <tr>\n",
       "      <th>BsmtExposure</th>\n",
       "      <td>63.939761</td>\n",
       "      <td>7.557758e-50</td>\n",
       "      <td>113.106680</td>\n",
       "    </tr>\n",
       "    <tr>\n",
       "      <th>BsmtFinType1</th>\n",
       "      <td>64.688200</td>\n",
       "      <td>2.386358e-71</td>\n",
       "      <td>162.613773</td>\n",
       "    </tr>\n",
       "    <tr>\n",
       "      <th>BsmtFinType2</th>\n",
       "      <td>7.565378</td>\n",
       "      <td>5.225649e-08</td>\n",
       "      <td>16.767102</td>\n",
       "    </tr>\n",
       "    <tr>\n",
       "      <th>Heating</th>\n",
       "      <td>4.259819</td>\n",
       "      <td>7.534721e-04</td>\n",
       "      <td>7.190819</td>\n",
       "    </tr>\n",
       "    <tr>\n",
       "      <th>HeatingQC</th>\n",
       "      <td>88.394462</td>\n",
       "      <td>2.667062e-67</td>\n",
       "      <td>153.292224</td>\n",
       "    </tr>\n",
       "    <tr>\n",
       "      <th>CentralAir</th>\n",
       "      <td>98.305344</td>\n",
       "      <td>1.809506e-22</td>\n",
       "      <td>50.063818</td>\n",
       "    </tr>\n",
       "    <tr>\n",
       "      <th>Electrical</th>\n",
       "      <td>18.460192</td>\n",
       "      <td>8.226925e-18</td>\n",
       "      <td>39.339119</td>\n",
       "    </tr>\n",
       "    <tr>\n",
       "      <th>KitchenQual</th>\n",
       "      <td>407.806352</td>\n",
       "      <td>3.032213e-192</td>\n",
       "      <td>440.987045</td>\n",
       "    </tr>\n",
       "    <tr>\n",
       "      <th>Functional</th>\n",
       "      <td>4.057875</td>\n",
       "      <td>4.841697e-04</td>\n",
       "      <td>7.633075</td>\n",
       "    </tr>\n",
       "    <tr>\n",
       "      <th>FireplaceQu</th>\n",
       "      <td>121.075121</td>\n",
       "      <td>2.971217e-107</td>\n",
       "      <td>245.287633</td>\n",
       "    </tr>\n",
       "    <tr>\n",
       "      <th>GarageType</th>\n",
       "      <td>80.379992</td>\n",
       "      <td>6.117026e-87</td>\n",
       "      <td>198.513827</td>\n",
       "    </tr>\n",
       "    <tr>\n",
       "      <th>GarageFinish</th>\n",
       "      <td>213.867028</td>\n",
       "      <td>6.228747e-115</td>\n",
       "      <td>262.968110</td>\n",
       "    </tr>\n",
       "    <tr>\n",
       "      <th>GarageQual</th>\n",
       "      <td>25.776093</td>\n",
       "      <td>5.388762e-25</td>\n",
       "      <td>55.880312</td>\n",
       "    </tr>\n",
       "    <tr>\n",
       "      <th>GarageCond</th>\n",
       "      <td>25.750153</td>\n",
       "      <td>5.711746e-25</td>\n",
       "      <td>55.822103</td>\n",
       "    </tr>\n",
       "    <tr>\n",
       "      <th>PavedDrive</th>\n",
       "      <td>42.024179</td>\n",
       "      <td>1.803569e-18</td>\n",
       "      <td>40.856764</td>\n",
       "    </tr>\n",
       "    <tr>\n",
       "      <th>PoolQC</th>\n",
       "      <td>10.509853</td>\n",
       "      <td>7.700989e-07</td>\n",
       "      <td>14.076747</td>\n",
       "    </tr>\n",
       "    <tr>\n",
       "      <th>Fence</th>\n",
       "      <td>13.433276</td>\n",
       "      <td>9.379977e-11</td>\n",
       "      <td>23.089859</td>\n",
       "    </tr>\n",
       "    <tr>\n",
       "      <th>MiscFeature</th>\n",
       "      <td>2.593622</td>\n",
       "      <td>3.500367e-02</td>\n",
       "      <td>3.352302</td>\n",
       "    </tr>\n",
       "    <tr>\n",
       "      <th>SaleType</th>\n",
       "      <td>28.863054</td>\n",
       "      <td>5.039767e-42</td>\n",
       "      <td>95.091214</td>\n",
       "    </tr>\n",
       "    <tr>\n",
       "      <th>SaleCondition</th>\n",
       "      <td>45.578428</td>\n",
       "      <td>7.988268e-44</td>\n",
       "      <td>99.235770</td>\n",
       "    </tr>\n",
       "  </tbody>\n",
       "</table>\n",
       "</div>"
      ],
      "text/plain": [
       "                statistic        p_value   disparity\n",
       "MSZoning        43.840282   8.817634e-35   78.413725\n",
       "Street           2.459290   1.170486e-01    2.145166\n",
       "Alley           15.176614   2.996380e-07   15.020691\n",
       "LotShape        40.132852   6.447524e-25   55.700931\n",
       "LandContour     12.850188   2.742217e-08   17.411914\n",
       "Utilities        0.298804   5.847168e-01    0.536628\n",
       "LotConfig        7.809954   3.163167e-06   12.663937\n",
       "LandSlope        1.958817   1.413964e-01    1.956188\n",
       "Neighborhood    71.784865  1.558600e-225  517.637858\n",
       "Condition1       6.118017   8.904549e-08   16.234118\n",
       "Condition2       2.073899   4.342566e-02    3.136705\n",
       "BldgType        13.011077   2.056736e-10   22.304730\n",
       "HouseStyle      19.595001   3.376777e-25   56.347706\n",
       "RoofStyle       17.805497   3.653523e-17   37.848255\n",
       "RoofMatl         6.727305   7.231445e-08   16.442242\n",
       "Exterior1st     18.611743   2.586089e-43   98.061012\n",
       "Exterior2nd     17.500840   4.842186e-43   97.433793\n",
       "MasVnrType      84.672201   1.054025e-64  147.312830\n",
       "ExterQual      443.334831  1.439551e-204  469.363028\n",
       "ExterCond        8.798714   5.106681e-07   14.487546\n",
       "Foundation     100.253851   5.791895e-91  207.778784\n",
       "BsmtQual       316.148635  8.158548e-196  449.207612\n",
       "BsmtCond        19.708139   8.195794e-16   34.737740\n",
       "BsmtExposure    63.939761   7.557758e-50  113.106680\n",
       "BsmtFinType1    64.688200   2.386358e-71  162.613773\n",
       "BsmtFinType2     7.565378   5.225649e-08   16.767102\n",
       "Heating          4.259819   7.534721e-04    7.190819\n",
       "HeatingQC       88.394462   2.667062e-67  153.292224\n",
       "CentralAir      98.305344   1.809506e-22   50.063818\n",
       "Electrical      18.460192   8.226925e-18   39.339119\n",
       "KitchenQual    407.806352  3.032213e-192  440.987045\n",
       "Functional       4.057875   4.841697e-04    7.633075\n",
       "FireplaceQu    121.075121  2.971217e-107  245.287633\n",
       "GarageType      80.379992   6.117026e-87  198.513827\n",
       "GarageFinish   213.867028  6.228747e-115  262.968110\n",
       "GarageQual      25.776093   5.388762e-25   55.880312\n",
       "GarageCond      25.750153   5.711746e-25   55.822103\n",
       "PavedDrive      42.024179   1.803569e-18   40.856764\n",
       "PoolQC          10.509853   7.700989e-07   14.076747\n",
       "Fence           13.433276   9.379977e-11   23.089859\n",
       "MiscFeature      2.593622   3.500367e-02    3.352302\n",
       "SaleType        28.863054   5.039767e-42   95.091214\n",
       "SaleCondition   45.578428   7.988268e-44   99.235770"
      ]
     },
     "execution_count": 59,
     "metadata": {},
     "output_type": "execute_result"
    }
   ],
   "source": [
    "anova = pd.DataFrame({\n",
    "    col: anova_feature(train[col],train.SalePrice) for col in qualitative\n",
    "}).T\n",
    "anova"
   ]
  },
  {
   "cell_type": "markdown",
   "metadata": {
    "nteract": {
     "transient": {
      "deleting": false
     }
    }
   },
   "source": [
    "### 2c. Plot the disparity measure"
   ]
  },
  {
   "cell_type": "code",
   "execution_count": 60,
   "metadata": {
    "gather": {
     "logged": 1665932381965
    },
    "jupyter": {
     "outputs_hidden": false
    },
    "nteract": {
     "transient": {
      "deleting": false
     }
    }
   },
   "outputs": [
    {
     "data": {
      "text/plain": [
       "<matplotlib.axes._subplots.AxesSubplot at 0x21dcd64fdc8>"
      ]
     },
     "execution_count": 60,
     "metadata": {},
     "output_type": "execute_result"
    },
    {
     "data": {
      "image/png": "[encoded data removed]",
      "text/plain": [
       "<Figure size 864x216 with 1 Axes>"
      ]
     },
     "metadata": {
      "needs_background": "light"
     },
     "output_type": "display_data"
    }
   ],
   "source": [
    "anova.disparity.sort_values(ascending=False).plot.bar(figsize=(12,3))"
   ]
  },
  {
   "cell_type": "markdown",
   "metadata": {
    "nteract": {
     "transient": {
      "deleting": false
     }
    }
   },
   "source": [
    "## Task 3: Encode qualitative variables as quantitative\n",
    "### 3a. Feature-level function\n",
    "\n",
    "* Write a function that  an input dataframe with encoded version\n",
    "* Complete the following snippet"
   ]
  },
  {
   "cell_type": "code",
   "execution_count": 61,
   "metadata": {
    "gather": {
     "logged": 1665932504214
    },
    "jupyter": {
     "outputs_hidden": false
    },
    "nteract": {
     "transient": {
      "deleting": false
     }
    }
   },
   "outputs": [],
   "source": [
    "def encode_qualitative_feature(quantitative_series, qualitative_series, sorting_function=np.mean,suffix='_E'):\n",
    "    '''\n",
    "    Ranks `qualitative_series` according to sorting function applied on `quantitative_series` and return its rank as a series. \n",
    "    \n",
    "    Series name is extended with `suffix`.\n",
    "    '''\n",
    "    encode_df = pd.DataFrame({\n",
    "        quantitative_series.name:quantitative_series,\n",
    "        qualitative_series.name:qualitative_series \n",
    "    })\n",
    "\n",
    "    sorting = encode_df.groupby(qualitative_series.name)[quantitative_series.name].apply(np.mean).rank()\n",
    "\n",
    "    return qualitative_series.map(sorting).rename(f'{qualitative_series.name}{suffix}')"
   ]
  },
  {
   "cell_type": "code",
   "execution_count": 62,
   "metadata": {},
   "outputs": [
    {
     "ename": "NameError",
     "evalue": "name 'df' is not defined",
     "output_type": "error",
     "traceback": [
      "\u001b[1;31m---------------------------------------------------------------------------\u001b[0m",
      "\u001b[1;31mNameError\u001b[0m                                 Traceback (most recent call last)",
      "\u001b[1;32m<ipython-input-62-ec6597fa6e62>\u001b[0m in \u001b[0;36m<module>\u001b[1;34m\u001b[0m\n\u001b[1;32m----> 1\u001b[1;33m \u001b[0mencode_qualitative_feature\u001b[0m\u001b[1;33m(\u001b[0m\u001b[0mdf\u001b[0m\u001b[1;33m.\u001b[0m\u001b[0mSalePrice\u001b[0m\u001b[1;33m,\u001b[0m \u001b[0mdf\u001b[0m\u001b[1;33m.\u001b[0m\u001b[0mKitchenQual\u001b[0m\u001b[1;33m)\u001b[0m\u001b[1;33m\u001b[0m\u001b[1;33m\u001b[0m\u001b[0m\n\u001b[0m",
      "\u001b[1;31mNameError\u001b[0m: name 'df' is not defined"
     ]
    }
   ],
   "source": [
    "encode_qualitative_feature(train.SalePrice, train.KitchenQual)"
   ]
  },
  {
   "cell_type": "markdown",
   "metadata": {
    "nteract": {
     "transient": {
      "deleting": false
     }
    }
   },
   "source": [
    "## 3b. Apply on all qualitative features\n"
   ]
  },
  {
   "cell_type": "code",
   "execution_count": null,
   "metadata": {
    "gather": {
     "logged": 1665932509900
    },
    "jupyter": {
     "outputs_hidden": false
    },
    "nteract": {
     "transient": {
      "deleting": false
     }
    }
   },
   "outputs": [],
   "source": [
    "def encode_columns(df, columns, sorting_function=np.mean,suffix='_E'):\n",
    "    for col in columns:\n",
    "        ranked_col = encode_qualitative_feature(df.SalePrice, df[col])\n",
    "        df[ranked_col.name] = ranked_col\n",
    "\n",
    "    return df\n",
    "\n",
    "df_encoded =encode_columns(df.copy(), qualitative, sorting_function=np.mean,suffix='_E')\n",
    "df_encoded"
   ]
  },
  {
   "cell_type": "code",
   "execution_count": null,
   "metadata": {},
   "outputs": [],
   "source": []
  }
 ],
 "metadata": {
  "kernel_info": {
   "name": "python38-azureml"
  },
  "kernelspec": {
   "display_name": "Python 3",
   "language": "python",
   "name": "python3"
  },
  "language_info": {
   "codemirror_mode": {
    "name": "ipython",
    "version": 3
   },
   "file_extension": ".py",
   "mimetype": "text/x-python",
   "name": "python",
   "nbconvert_exporter": "python",
   "pygments_lexer": "ipython3",
   "version": "3.7.4"
  },
  "microsoft": {
   "host": {
    "AzureML": {
     "notebookHasBeenCompleted": true
    }
   }
  },
  "nteract": {
   "version": "nteract-front-end@1.0.0"
  }
 },
 "nbformat": 4,
 "nbformat_minor": 4
}
